{
 "cells": [
  {
   "cell_type": "markdown",
   "id": "08e951b9",
   "metadata": {},
   "source": [
    "##  Libraries"
   ]
  },
  {
   "cell_type": "code",
   "execution_count": 1,
   "id": "8f5035f0",
   "metadata": {},
   "outputs": [
    {
     "data": {
      "text/html": [
       "        <script type=\"text/javascript\">\n",
       "        window.PlotlyConfig = {MathJaxConfig: 'local'};\n",
       "        if (window.MathJax && window.MathJax.Hub && window.MathJax.Hub.Config) {window.MathJax.Hub.Config({SVG: {font: \"STIX-Web\"}});}\n",
       "        if (typeof require !== 'undefined') {\n",
       "        require.undef(\"plotly\");\n",
       "        requirejs.config({\n",
       "            paths: {\n",
       "                'plotly': ['https://cdn.plot.ly/plotly-2.12.1.min']\n",
       "            }\n",
       "        });\n",
       "        require(['plotly'], function(Plotly) {\n",
       "            window._Plotly = Plotly;\n",
       "        });\n",
       "        }\n",
       "        </script>\n",
       "        "
      ]
     },
     "metadata": {},
     "output_type": "display_data"
    }
   ],
   "source": [
    "import numpy as np \n",
    "import pandas as pd \n",
    "import matplotlib.pyplot as plt\n",
    "%matplotlib inline\n",
    "\n",
    "import plotly.graph_objs as go\n",
    "from plotly.offline import plot\n",
    "from sklearn.model_selection import train_test_split\n",
    "from sklearn.preprocessing import MinMaxScaler\n",
    "from sklearn.preprocessing import StandardScaler\n",
    "from sklearn.metrics import mean_squared_error as mse\n",
    "from sklearn.metrics import r2_score\n",
    "from sklearn.linear_model import LinearRegression\n",
    "\n",
    "from plotly.offline import download_plotlyjs , init_notebook_mode , plot, iplot\n",
    "init_notebook_mode(connected=True)"
   ]
  },
  {
   "cell_type": "markdown",
   "id": "9218c6c3",
   "metadata": {},
   "source": [
    "## Data"
   ]
  },
  {
   "cell_type": "code",
   "execution_count": 2,
   "id": "24da3f6a",
   "metadata": {},
   "outputs": [],
   "source": [
    "data = pd.read_csv('INR=X.csv')"
   ]
  },
  {
   "cell_type": "code",
   "execution_count": 3,
   "id": "8fccb8f3",
   "metadata": {},
   "outputs": [
    {
     "data": {
      "text/html": [
       "<div>\n",
       "<style scoped>\n",
       "    .dataframe tbody tr th:only-of-type {\n",
       "        vertical-align: middle;\n",
       "    }\n",
       "\n",
       "    .dataframe tbody tr th {\n",
       "        vertical-align: top;\n",
       "    }\n",
       "\n",
       "    .dataframe thead th {\n",
       "        text-align: right;\n",
       "    }\n",
       "</style>\n",
       "<table border=\"1\" class=\"dataframe\">\n",
       "  <thead>\n",
       "    <tr style=\"text-align: right;\">\n",
       "      <th></th>\n",
       "      <th>Date</th>\n",
       "      <th>Open</th>\n",
       "      <th>High</th>\n",
       "      <th>Low</th>\n",
       "      <th>Close</th>\n",
       "      <th>Adj Close</th>\n",
       "      <th>Volume</th>\n",
       "    </tr>\n",
       "  </thead>\n",
       "  <tbody>\n",
       "    <tr>\n",
       "      <th>0</th>\n",
       "      <td>2020-01-27</td>\n",
       "      <td>71.320000</td>\n",
       "      <td>71.635002</td>\n",
       "      <td>71.320000</td>\n",
       "      <td>71.324997</td>\n",
       "      <td>71.324997</td>\n",
       "      <td>0</td>\n",
       "    </tr>\n",
       "    <tr>\n",
       "      <th>1</th>\n",
       "      <td>2020-01-28</td>\n",
       "      <td>71.654999</td>\n",
       "      <td>71.654999</td>\n",
       "      <td>71.178001</td>\n",
       "      <td>71.440002</td>\n",
       "      <td>71.440002</td>\n",
       "      <td>0</td>\n",
       "    </tr>\n",
       "    <tr>\n",
       "      <th>2</th>\n",
       "      <td>2020-01-29</td>\n",
       "      <td>71.230103</td>\n",
       "      <td>71.425003</td>\n",
       "      <td>71.168503</td>\n",
       "      <td>71.230400</td>\n",
       "      <td>71.230400</td>\n",
       "      <td>0</td>\n",
       "    </tr>\n",
       "    <tr>\n",
       "      <th>3</th>\n",
       "      <td>2020-01-30</td>\n",
       "      <td>71.300003</td>\n",
       "      <td>71.711998</td>\n",
       "      <td>71.300003</td>\n",
       "      <td>71.300003</td>\n",
       "      <td>71.300003</td>\n",
       "      <td>0</td>\n",
       "    </tr>\n",
       "    <tr>\n",
       "      <th>4</th>\n",
       "      <td>2020-01-31</td>\n",
       "      <td>71.639999</td>\n",
       "      <td>71.639999</td>\n",
       "      <td>71.277496</td>\n",
       "      <td>71.639999</td>\n",
       "      <td>71.639999</td>\n",
       "      <td>0</td>\n",
       "    </tr>\n",
       "  </tbody>\n",
       "</table>\n",
       "</div>"
      ],
      "text/plain": [
       "         Date       Open       High        Low      Close  Adj Close  Volume\n",
       "0  2020-01-27  71.320000  71.635002  71.320000  71.324997  71.324997       0\n",
       "1  2020-01-28  71.654999  71.654999  71.178001  71.440002  71.440002       0\n",
       "2  2020-01-29  71.230103  71.425003  71.168503  71.230400  71.230400       0\n",
       "3  2020-01-30  71.300003  71.711998  71.300003  71.300003  71.300003       0\n",
       "4  2020-01-31  71.639999  71.639999  71.277496  71.639999  71.639999       0"
      ]
     },
     "execution_count": 3,
     "metadata": {},
     "output_type": "execute_result"
    }
   ],
   "source": [
    "data.head()"
   ]
  },
  {
   "cell_type": "markdown",
   "id": "38fc88c4",
   "metadata": {},
   "source": [
    "## Data info"
   ]
  },
  {
   "cell_type": "code",
   "execution_count": 4,
   "id": "5171cd73",
   "metadata": {},
   "outputs": [
    {
     "data": {
      "text/plain": [
       "(262, 7)"
      ]
     },
     "execution_count": 4,
     "metadata": {},
     "output_type": "execute_result"
    }
   ],
   "source": [
    "data.shape"
   ]
  },
  {
   "cell_type": "code",
   "execution_count": 5,
   "id": "b9b26968",
   "metadata": {},
   "outputs": [
    {
     "name": "stdout",
     "output_type": "stream",
     "text": [
      "<class 'pandas.core.frame.DataFrame'>\n",
      "RangeIndex: 262 entries, 0 to 261\n",
      "Data columns (total 7 columns):\n",
      " #   Column     Non-Null Count  Dtype  \n",
      "---  ------     --------------  -----  \n",
      " 0   Date       262 non-null    object \n",
      " 1   Open       262 non-null    float64\n",
      " 2   High       262 non-null    float64\n",
      " 3   Low        262 non-null    float64\n",
      " 4   Close      262 non-null    float64\n",
      " 5   Adj Close  262 non-null    float64\n",
      " 6   Volume     262 non-null    int64  \n",
      "dtypes: float64(5), int64(1), object(1)\n",
      "memory usage: 14.5+ KB\n"
     ]
    }
   ],
   "source": [
    "data.info()"
   ]
  },
  {
   "cell_type": "code",
   "execution_count": 6,
   "id": "18b80c81",
   "metadata": {},
   "outputs": [
    {
     "data": {
      "text/plain": [
       "Date         0\n",
       "Open         0\n",
       "High         0\n",
       "Low          0\n",
       "Close        0\n",
       "Adj Close    0\n",
       "Volume       0\n",
       "dtype: int64"
      ]
     },
     "execution_count": 6,
     "metadata": {},
     "output_type": "execute_result"
    }
   ],
   "source": [
    "# check for null bvalues in the dataset\n",
    "data.isna().sum()"
   ]
  },
  {
   "cell_type": "code",
   "execution_count": 7,
   "id": "094693fb",
   "metadata": {},
   "outputs": [
    {
     "data": {
      "text/html": [
       "<div>\n",
       "<style scoped>\n",
       "    .dataframe tbody tr th:only-of-type {\n",
       "        vertical-align: middle;\n",
       "    }\n",
       "\n",
       "    .dataframe tbody tr th {\n",
       "        vertical-align: top;\n",
       "    }\n",
       "\n",
       "    .dataframe thead th {\n",
       "        text-align: right;\n",
       "    }\n",
       "</style>\n",
       "<table border=\"1\" class=\"dataframe\">\n",
       "  <thead>\n",
       "    <tr style=\"text-align: right;\">\n",
       "      <th></th>\n",
       "      <th>Open</th>\n",
       "      <th>High</th>\n",
       "      <th>Low</th>\n",
       "      <th>Close</th>\n",
       "      <th>Adj Close</th>\n",
       "      <th>Volume</th>\n",
       "    </tr>\n",
       "  </thead>\n",
       "  <tbody>\n",
       "    <tr>\n",
       "      <th>count</th>\n",
       "      <td>262.000000</td>\n",
       "      <td>262.000000</td>\n",
       "      <td>262.000000</td>\n",
       "      <td>262.000000</td>\n",
       "      <td>262.000000</td>\n",
       "      <td>262.0</td>\n",
       "    </tr>\n",
       "    <tr>\n",
       "      <th>mean</th>\n",
       "      <td>74.373533</td>\n",
       "      <td>74.631087</td>\n",
       "      <td>74.011048</td>\n",
       "      <td>74.358489</td>\n",
       "      <td>74.358489</td>\n",
       "      <td>0.0</td>\n",
       "    </tr>\n",
       "    <tr>\n",
       "      <th>std</th>\n",
       "      <td>1.417620</td>\n",
       "      <td>1.494521</td>\n",
       "      <td>1.311330</td>\n",
       "      <td>1.426245</td>\n",
       "      <td>1.426245</td>\n",
       "      <td>0.0</td>\n",
       "    </tr>\n",
       "    <tr>\n",
       "      <th>min</th>\n",
       "      <td>71.100403</td>\n",
       "      <td>71.279999</td>\n",
       "      <td>71.064003</td>\n",
       "      <td>71.099998</td>\n",
       "      <td>71.099998</td>\n",
       "      <td>0.0</td>\n",
       "    </tr>\n",
       "    <tr>\n",
       "      <th>25%</th>\n",
       "      <td>73.546175</td>\n",
       "      <td>73.706577</td>\n",
       "      <td>73.202003</td>\n",
       "      <td>73.531049</td>\n",
       "      <td>73.531049</td>\n",
       "      <td>0.0</td>\n",
       "    </tr>\n",
       "    <tr>\n",
       "      <th>50%</th>\n",
       "      <td>74.332001</td>\n",
       "      <td>74.531300</td>\n",
       "      <td>73.881748</td>\n",
       "      <td>74.275799</td>\n",
       "      <td>74.275799</td>\n",
       "      <td>0.0</td>\n",
       "    </tr>\n",
       "    <tr>\n",
       "      <th>75%</th>\n",
       "      <td>75.484551</td>\n",
       "      <td>75.737499</td>\n",
       "      <td>75.067053</td>\n",
       "      <td>75.489424</td>\n",
       "      <td>75.489424</td>\n",
       "      <td>0.0</td>\n",
       "    </tr>\n",
       "    <tr>\n",
       "      <th>max</th>\n",
       "      <td>77.684998</td>\n",
       "      <td>77.754997</td>\n",
       "      <td>76.496300</td>\n",
       "      <td>77.570000</td>\n",
       "      <td>77.570000</td>\n",
       "      <td>0.0</td>\n",
       "    </tr>\n",
       "  </tbody>\n",
       "</table>\n",
       "</div>"
      ],
      "text/plain": [
       "             Open        High         Low       Close   Adj Close  Volume\n",
       "count  262.000000  262.000000  262.000000  262.000000  262.000000   262.0\n",
       "mean    74.373533   74.631087   74.011048   74.358489   74.358489     0.0\n",
       "std      1.417620    1.494521    1.311330    1.426245    1.426245     0.0\n",
       "min     71.100403   71.279999   71.064003   71.099998   71.099998     0.0\n",
       "25%     73.546175   73.706577   73.202003   73.531049   73.531049     0.0\n",
       "50%     74.332001   74.531300   73.881748   74.275799   74.275799     0.0\n",
       "75%     75.484551   75.737499   75.067053   75.489424   75.489424     0.0\n",
       "max     77.684998   77.754997   76.496300   77.570000   77.570000     0.0"
      ]
     },
     "execution_count": 7,
     "metadata": {},
     "output_type": "execute_result"
    }
   ],
   "source": [
    "data.describe()"
   ]
  },
  {
   "cell_type": "code",
   "execution_count": 8,
   "id": "e755bc6d",
   "metadata": {},
   "outputs": [
    {
     "data": {
      "text/plain": [
       "<AxesSubplot:>"
      ]
     },
     "execution_count": 8,
     "metadata": {},
     "output_type": "execute_result"
    },
    {
     "data": {
      "image/png": "[encoded data removed]",
      "text/plain": [
       "<Figure size 640x480 with 1 Axes>"
      ]
     },
     "metadata": {},
     "output_type": "display_data"
    }
   ],
   "source": [
    "data[['Open','High','Low','Close','Adj Close']].plot(kind='box')"
   ]
  },
  {
   "cell_type": "code",
   "execution_count": 9,
   "id": "d5a82d2b",
   "metadata": {},
   "outputs": [],
   "source": [
    "data['Date']=pd.to_datetime(data['Date'])"
   ]
  },
  {
   "cell_type": "code",
   "execution_count": 10,
   "id": "6e7c793a",
   "metadata": {},
   "outputs": [
    {
     "name": "stdout",
     "output_type": "stream",
     "text": [
      "DataFrame contains stock prices between 2020-01-27 00:00:00 2021-01-26 00:00:00\n",
      "Total days = 365days\n"
     ]
    }
   ],
   "source": [
    "print(f'DataFrame contains stock prices between {data.Date.min()} {data.Date.max()}')\n",
    "print(f'Total days = {(data.Date.max() - data.Date.min()).days}days')"
   ]
  },
  {
   "cell_type": "code",
   "execution_count": 11,
   "id": "27407a5c",
   "metadata": {},
   "outputs": [
    {
     "data": {
      "image/png": "[encoded data removed]",
      "text/plain": [
       "<Figure size 2000x1000 with 6 Axes>"
      ]
     },
     "metadata": {},
     "output_type": "display_data"
    }
   ],
   "source": [
    "fig,((ax1,ax2,ax3),(ax4,ax5,ax6)) = plt.subplots(2, 3, figsize=(20,10))\n",
    "\n",
    "ax1.plot(data['Open'])\n",
    "ax1.set_xlabel(\"Day\", fontsize=15)\n",
    "ax1.set_ylabel(\"Open\", fontsize=15)\n",
    "\n",
    "ax2.plot(data['High'], color='yellow')\n",
    "ax2.set_xlabel(\"Day\", fontsize= 15)\n",
    "ax2.set_ylabel(\"High\", fontsize=15)\n",
    "\n",
    "ax3.plot(data['Low'], color='green')\n",
    "ax3.set_xlabel(\"Day\", fontsize=15)\n",
    "ax3.set_ylabel(\"low\", fontsize=15)\n",
    "\n",
    "\n",
    "ax4.plot(data['Close'], color='pink')\n",
    "ax4.set_xlabel(\"Day\", fontsize=15)\n",
    "ax4.set_ylabel(\"Close\", fontsize=15)\n",
    "\n",
    "ax5.plot(data['Adj Close'], color='red')\n",
    "ax5.set_xlabel(\"Day\", fontsize=15)\n",
    "ax5.set_ylabel(\"Adj close\", fontsize=15)\n",
    "\n",
    "\n",
    "ax6.plot(data['Volume'], color='orange')\n",
    "ax6.set_xlabel(\"Day\", fontsize=15)\n",
    "ax6.set_ylabel(\"Volume\", fontsize=15)\n",
    "\n",
    "plt.show()"
   ]
  },
  {
   "cell_type": "code",
   "execution_count": 12,
   "id": "1a71449e",
   "metadata": {},
   "outputs": [],
   "source": [
    "Layout = go.Layout(\n",
    "    title = 'Stock Prices ',\n",
    "    xaxis=dict(\n",
    "    title='Date',\n",
    "    titlefont=dict(\n",
    "    family='Courier New, monospace',size=18,color='#7f7f7f'))\n",
    ")\n",
    "stock_data = [{'x':data['Date'], 'y':data['Close']}]\n",
    "plot = go.Figure(data=stock_data,layout=Layout)"
   ]
  },
  {
   "cell_type": "code",
   "execution_count": 13,
   "id": "58682c6d",
   "metadata": {},
   "outputs": [
    {
     "data": {
      "application/vnd.plotly.v1+json": {
       "config": {
        "linkText": "Export to plot.ly",
        "plotlyServerURL": "https://plot.ly",
        "showLink": false
       },
       "data": [
        {
         "type": "scatter",
         "x": [
          "2020-01-27T00:00:00",
          "2020-01-28T00:00:00",
          "2020-01-29T00:00:00",
          "2020-01-30T00:00:00",
          "2020-01-31T00:00:00",
          "2020-02-03T00:00:00",
          "2020-02-04T00:00:00",
          "2020-02-05T00:00:00",
          "2020-02-06T00:00:00",
          "2020-02-07T00:00:00",
          "2020-02-10T00:00:00",
          "2020-02-11T00:00:00",
          "2020-02-12T00:00:00",
          "2020-02-13T00:00:00",
          "2020-02-14T00:00:00",
          "2020-02-17T00:00:00",
          "2020-02-18T00:00:00",
          "2020-02-19T00:00:00",
          "2020-02-20T00:00:00",
          "2020-02-21T00:00:00",
          "2020-02-24T00:00:00",
          "2020-02-25T00:00:00",
          "2020-02-26T00:00:00",
          "2020-02-27T00:00:00",
          "2020-02-28T00:00:00",
          "2020-03-02T00:00:00",
          "2020-03-03T00:00:00",
          "2020-03-04T00:00:00",
          "2020-03-05T00:00:00",
          "2020-03-06T00:00:00",
          "2020-03-09T00:00:00",
          "2020-03-10T00:00:00",
          "2020-03-11T00:00:00",
          "2020-03-12T00:00:00",
          "2020-03-13T00:00:00",
          "2020-03-16T00:00:00",
          "2020-03-17T00:00:00",
          "2020-03-18T00:00:00",
          "2020-03-19T00:00:00",
          "2020-03-20T00:00:00",
          "2020-03-23T00:00:00",
          "2020-03-24T00:00:00",
          "2020-03-25T00:00:00",
          "2020-03-26T00:00:00",
          "2020-03-27T00:00:00",
          "2020-03-30T00:00:00",
          "2020-03-31T00:00:00",
          "2020-04-01T00:00:00",
          "2020-04-02T00:00:00",
          "2020-04-03T00:00:00",
          "2020-04-06T00:00:00",
          "2020-04-07T00:00:00",
          "2020-04-08T00:00:00",
          "2020-04-09T00:00:00",
          "2020-04-10T00:00:00",
          "2020-04-13T00:00:00",
          "2020-04-14T00:00:00",
          "2020-04-15T00:00:00",
          "2020-04-16T00:00:00",
          "2020-04-17T00:00:00",
          "2020-04-20T00:00:00",
          "2020-04-21T00:00:00",
          "2020-04-22T00:00:00",
          "2020-04-23T00:00:00",
          "2020-04-24T00:00:00",
          "2020-04-27T00:00:00",
          "2020-04-28T00:00:00",
          "2020-04-29T00:00:00",
          "2020-04-30T00:00:00",
          "2020-05-01T00:00:00",
          "2020-05-04T00:00:00",
          "2020-05-05T00:00:00",
          "2020-05-06T00:00:00",
          "2020-05-07T00:00:00",
          "2020-05-08T00:00:00",
          "2020-05-11T00:00:00",
          "2020-05-12T00:00:00",
          "2020-05-13T00:00:00",
          "2020-05-14T00:00:00",
          "2020-05-15T00:00:00",
          "2020-05-18T00:00:00",
          "2020-05-19T00:00:00",
          "2020-05-20T00:00:00",
          "2020-05-21T00:00:00",
          "2020-05-22T00:00:00",
          "2020-05-25T00:00:00",
          "2020-05-26T00:00:00",
          "2020-05-27T00:00:00",
          "2020-05-28T00:00:00",
          "2020-05-29T00:00:00",
          "2020-06-01T00:00:00",
          "2020-06-02T00:00:00",
          "2020-06-03T00:00:00",
          "2020-06-04T00:00:00",
          "2020-06-05T00:00:00",
          "2020-06-08T00:00:00",
          "2020-06-09T00:00:00",
          "2020-06-10T00:00:00",
          "2020-06-11T00:00:00",
          "2020-06-12T00:00:00",
          "2020-06-15T00:00:00",
          "2020-06-16T00:00:00",
          "2020-06-17T00:00:00",
          "2020-06-18T00:00:00",
          "2020-06-19T00:00:00",
          "2020-06-22T00:00:00",
          "2020-06-23T00:00:00",
          "2020-06-24T00:00:00",
          "2020-06-25T00:00:00",
          "2020-06-26T00:00:00",
          "2020-06-29T00:00:00",
          "2020-06-30T00:00:00",
          "2020-07-01T00:00:00",
          "2020-07-02T00:00:00",
          "2020-07-03T00:00:00",
          "2020-07-06T00:00:00",
          "2020-07-07T00:00:00",
          "2020-07-08T00:00:00",
          "2020-07-09T00:00:00",
          "2020-07-10T00:00:00",
          "2020-07-13T00:00:00",
          "2020-07-14T00:00:00",
          "2020-07-15T00:00:00",
          "2020-07-16T00:00:00",
          "2020-07-17T00:00:00",
          "2020-07-20T00:00:00",
          "2020-07-21T00:00:00",
          "2020-07-22T00:00:00",
          "2020-07-23T00:00:00",
          "2020-07-24T00:00:00",
          "2020-07-27T00:00:00",
          "2020-07-28T00:00:00",
          "2020-07-29T00:00:00",
          "2020-07-30T00:00:00",
          "2020-07-31T00:00:00",
          "2020-08-03T00:00:00",
          "2020-08-04T00:00:00",
          "2020-08-05T00:00:00",
          "2020-08-06T00:00:00",
          "2020-08-07T00:00:00",
          "2020-08-10T00:00:00",
          "2020-08-11T00:00:00",
          "2020-08-12T00:00:00",
          "2020-08-13T00:00:00",
          "2020-08-14T00:00:00",
          "2020-08-17T00:00:00",
          "2020-08-18T00:00:00",
          "2020-08-19T00:00:00",
          "2020-08-20T00:00:00",
          "2020-08-21T00:00:00",
          "2020-08-24T00:00:00",
          "2020-08-25T00:00:00",
          "2020-08-26T00:00:00",
          "2020-08-27T00:00:00",
          "2020-08-28T00:00:00",
          "2020-08-31T00:00:00",
          "2020-09-01T00:00:00",
          "2020-09-02T00:00:00",
          "2020-09-03T00:00:00",
          "2020-09-04T00:00:00",
          "2020-09-07T00:00:00",
          "2020-09-08T00:00:00",
          "2020-09-09T00:00:00",
          "2020-09-10T00:00:00",
          "2020-09-11T00:00:00",
          "2020-09-14T00:00:00",
          "2020-09-15T00:00:00",
          "2020-09-16T00:00:00",
          "2020-09-17T00:00:00",
          "2020-09-18T00:00:00",
          "2020-09-21T00:00:00",
          "2020-09-22T00:00:00",
          "2020-09-23T00:00:00",
          "2020-09-24T00:00:00",
          "2020-09-25T00:00:00",
          "2020-09-28T00:00:00",
          "2020-09-29T00:00:00",
          "2020-09-30T00:00:00",
          "2020-10-01T00:00:00",
          "2020-10-02T00:00:00",
          "2020-10-05T00:00:00",
          "2020-10-06T00:00:00",
          "2020-10-07T00:00:00",
          "2020-10-08T00:00:00",
          "2020-10-09T00:00:00",
          "2020-10-12T00:00:00",
          "2020-10-13T00:00:00",
          "2020-10-14T00:00:00",
          "2020-10-15T00:00:00",
          "2020-10-16T00:00:00",
          "2020-10-19T00:00:00",
          "2020-10-20T00:00:00",
          "2020-10-21T00:00:00",
          "2020-10-22T00:00:00",
          "2020-10-23T00:00:00",
          "2020-10-26T00:00:00",
          "2020-10-27T00:00:00",
          "2020-10-28T00:00:00",
          "2020-10-29T00:00:00",
          "2020-10-30T00:00:00",
          "2020-11-02T00:00:00",
          "2020-11-03T00:00:00",
          "2020-11-04T00:00:00",
          "2020-11-05T00:00:00",
          "2020-11-06T00:00:00",
          "2020-11-09T00:00:00",
          "2020-11-10T00:00:00",
          "2020-11-11T00:00:00",
          "2020-11-12T00:00:00",
          "2020-11-13T00:00:00",
          "2020-11-16T00:00:00",
          "2020-11-17T00:00:00",
          "2020-11-18T00:00:00",
          "2020-11-19T00:00:00",
          "2020-11-20T00:00:00",
          "2020-11-23T00:00:00",
          "2020-11-24T00:00:00",
          "2020-11-25T00:00:00",
          "2020-11-26T00:00:00",
          "2020-11-27T00:00:00",
          "2020-11-30T00:00:00",
          "2020-12-01T00:00:00",
          "2020-12-02T00:00:00",
          "2020-12-03T00:00:00",
          "2020-12-04T00:00:00",
          "2020-12-07T00:00:00",
          "2020-12-08T00:00:00",
          "2020-12-09T00:00:00",
          "2020-12-10T00:00:00",
          "2020-12-11T00:00:00",
          "2020-12-14T00:00:00",
          "2020-12-15T00:00:00",
          "2020-12-16T00:00:00",
          "2020-12-17T00:00:00",
          "2020-12-18T00:00:00",
          "2020-12-21T00:00:00",
          "2020-12-22T00:00:00",
          "2020-12-23T00:00:00",
          "2020-12-24T00:00:00",
          "2020-12-25T00:00:00",
          "2020-12-28T00:00:00",
          "2020-12-29T00:00:00",
          "2020-12-30T00:00:00",
          "2020-12-31T00:00:00",
          "2021-01-01T00:00:00",
          "2021-01-04T00:00:00",
          "2021-01-05T00:00:00",
          "2021-01-06T00:00:00",
          "2021-01-07T00:00:00",
          "2021-01-08T00:00:00",
          "2021-01-11T00:00:00",
          "2021-01-12T00:00:00",
          "2021-01-13T00:00:00",
          "2021-01-14T00:00:00",
          "2021-01-15T00:00:00",
          "2021-01-18T00:00:00",
          "2021-01-19T00:00:00",
          "2021-01-20T00:00:00",
          "2021-01-21T00:00:00",
          "2021-01-22T00:00:00",
          "2021-01-25T00:00:00",
          "2021-01-26T00:00:00"
         ],
         "y": [
          71.324997,
          71.440002,
          71.2304,
          71.300003,
          71.639999,
          71.496498,
          71.314102,
          71.099998,
          71.18,
          71.470001,
          71.515503,
          71.279999,
          71.275299,
          71.296204,
          71.268501,
          71.514801,
          71.349197,
          71.574997,
          71.827499,
          72.110001,
          71.886803,
          72.0467,
          71.870003,
          71.663399,
          71.93,
          72.150002,
          72.824997,
          73.342003,
          74.042503,
          73.855103,
          73.9953,
          74.405998,
          74.205002,
          74.760002,
          75.300003,
          73.903999,
          75.154999,
          74.012398,
          74.982002,
          75.159698,
          75.622101,
          76.505997,
          77.260002,
          75.845497,
          74.725601,
          75.464996,
          75.400002,
          75.324997,
          77.57,
          77.139999,
          76.230003,
          75.964897,
          76.660004,
          75.959,
          76.650002,
          76.166496,
          76.910004,
          75.931,
          77.212502,
          77.57,
          76.559998,
          77.209999,
          76.969398,
          76.400002,
          76.422501,
          76.2715,
          76.186302,
          76.464996,
          75.258499,
          75.720001,
          75.600502,
          75.849998,
          76.169998,
          76.151299,
          76.080002,
          75.525002,
          76.309998,
          75.68,
          75.426201,
          75.485001,
          75.82,
          75.600098,
          76,
          75.779999,
          75.625,
          75.985001,
          76.110001,
          75.82,
          76.129997,
          75.959999,
          75.513199,
          75.730003,
          75.065804,
          75.544998,
          75.490898,
          75.5177,
          75.625,
          75.509804,
          75.875,
          76.389999,
          75.956802,
          75.977997,
          76.654999,
          76.550003,
          76.400398,
          76.252098,
          75.789803,
          75.607803,
          75.970001,
          75.539803,
          75.619797,
          75.699997,
          75.75,
          75.454903,
          74.721001,
          74.679298,
          74.607597,
          75.125,
          74.939903,
          75.339996,
          75.158501,
          75.449997,
          75.574997,
          75.124901,
          75.1745,
          74.897301,
          74.989998,
          74.769997,
          74.82,
          74.807297,
          74.759804,
          75,
          75.089996,
          74.8312,
          74.989998,
          74.917801,
          75.330002,
          75.25,
          74.882202,
          74.899803,
          75.024803,
          75.099998,
          74.900002,
          74.772102,
          75.029999,
          74.902802,
          75,
          74.794998,
          74.966797,
          74.999901,
          74.921799,
          74.400002,
          74.452499,
          74.240097,
          73.774498,
          73.128304,
          73.669998,
          73.269997,
          73.248497,
          73.447899,
          73.290298,
          73.650002,
          73.786797,
          73.550003,
          73.527298,
          73.4786,
          73.614998,
          73.800003,
          73.550697,
          73.583603,
          73.534798,
          73.579803,
          73.502998,
          73.778397,
          73.682404,
          73.699303,
          73.974998,
          73.845001,
          73.705002,
          73.217003,
          73.322403,
          73.108299,
          73.815002,
          73.542503,
          73.280502,
          73.014801,
          73.3508,
          73.620003,
          73.296204,
          73.371002,
          73.443802,
          73.574997,
          73.647499,
          73.681297,
          73.720001,
          73.822899,
          73.948502,
          73.805,
          74.440002,
          74.264,
          74.550499,
          74.456802,
          74.655602,
          74.379997,
          74.120003,
          73.979797,
          73.953201,
          74.281601,
          74.57,
          74.864998,
          74.487701,
          74.418098,
          74.479698,
          74.419998,
          74.099602,
          74.162399,
          74.244904,
          73.9608,
          73.7799,
          74.048798,
          73.940903,
          74.0252,
          73.654999,
          73.662598,
          73.864899,
          73.790298,
          74.019997,
          73.726402,
          73.934998,
          73.7267,
          73.737999,
          73.860001,
          73.759804,
          73.6166,
          73.5298,
          73.6036,
          73.935303,
          74.269997,
          73.839798,
          73.5578,
          73.689003,
          73.544899,
          73.453598,
          73.134003,
          73.089203,
          73.092003,
          73.32,
          73.374802,
          73.360001,
          73.445999,
          73.373398,
          73.513496,
          73.165001,
          73.169899,
          73.087601,
          73.158997,
          73.188698,
          73.191902,
          72.910896,
          72.954903,
          72.995903,
          72.970001
         ]
        }
       ],
       "layout": {
        "template": {
         "data": {
          "bar": [
           {
            "error_x": {
             "color": "#2a3f5f"
            },
            "error_y": {
             "color": "#2a3f5f"
            },
            "marker": {
             "line": {
              "color": "#E5ECF6",
              "width": 0.5
             },
             "pattern": {
              "fillmode": "overlay",
              "size": 10,
              "solidity": 0.2
             }
            },
            "type": "bar"
           }
          ],
          "barpolar": [
           {
            "marker": {
             "line": {
              "color": "#E5ECF6",
              "width": 0.5
             },
             "pattern": {
              "fillmode": "overlay",
              "size": 10,
              "solidity": 0.2
             }
            },
            "type": "barpolar"
           }
          ],
          "carpet": [
           {
            "aaxis": {
             "endlinecolor": "#2a3f5f",
             "gridcolor": "white",
             "linecolor": "white",
             "minorgridcolor": "white",
             "startlinecolor": "#2a3f5f"
            },
            "baxis": {
             "endlinecolor": "#2a3f5f",
             "gridcolor": "white",
             "linecolor": "white",
             "minorgridcolor": "white",
             "startlinecolor": "#2a3f5f"
            },
            "type": "carpet"
           }
          ],
          "choropleth": [
           {
            "colorbar": {
             "outlinewidth": 0,
             "ticks": ""
            },
            "type": "choropleth"
           }
          ],
          "contour": [
           {
            "colorbar": {
             "outlinewidth": 0,
             "ticks": ""
            },
            "colorscale": [
             [
              0,
              "#0d0887"
             ],
             [
              0.1111111111111111,
              "#46039f"
             ],
             [
              0.2222222222222222,
              "#7201a8"
             ],
             [
              0.3333333333333333,
              "#9c179e"
             ],
             [
              0.4444444444444444,
              "#bd3786"
             ],
             [
              0.5555555555555556,
              "#d8576b"
             ],
             [
              0.6666666666666666,
              "#ed7953"
             ],
             [
              0.7777777777777778,
              "#fb9f3a"
             ],
             [
              0.8888888888888888,
              "#fdca26"
             ],
             [
              1,
              "#f0f921"
             ]
            ],
            "type": "contour"
           }
          ],
          "contourcarpet": [
           {
            "colorbar": {
             "outlinewidth": 0,
             "ticks": ""
            },
            "type": "contourcarpet"
           }
          ],
          "heatmap": [
           {
            "colorbar": {
             "outlinewidth": 0,
             "ticks": ""
            },
            "colorscale": [
             [
              0,
              "#0d0887"
             ],
             [
              0.1111111111111111,
              "#46039f"
             ],
             [
              0.2222222222222222,
              "#7201a8"
             ],
             [
              0.3333333333333333,
              "#9c179e"
             ],
             [
              0.4444444444444444,
              "#bd3786"
             ],
             [
              0.5555555555555556,
              "#d8576b"
             ],
             [
              0.6666666666666666,
              "#ed7953"
             ],
             [
              0.7777777777777778,
              "#fb9f3a"
             ],
             [
              0.8888888888888888,
              "#fdca26"
             ],
             [
              1,
              "#f0f921"
             ]
            ],
            "type": "heatmap"
           }
          ],
          "heatmapgl": [
           {
            "colorbar": {
             "outlinewidth": 0,
             "ticks": ""
            },
            "colorscale": [
             [
              0,
              "#0d0887"
             ],
             [
              0.1111111111111111,
              "#46039f"
             ],
             [
              0.2222222222222222,
              "#7201a8"
             ],
             [
              0.3333333333333333,
              "#9c179e"
             ],
             [
              0.4444444444444444,
              "#bd3786"
             ],
             [
              0.5555555555555556,
              "#d8576b"
             ],
             [
              0.6666666666666666,
              "#ed7953"
             ],
             [
              0.7777777777777778,
              "#fb9f3a"
             ],
             [
              0.8888888888888888,
              "#fdca26"
             ],
             [
              1,
              "#f0f921"
             ]
            ],
            "type": "heatmapgl"
           }
          ],
          "histogram": [
           {
            "marker": {
             "pattern": {
              "fillmode": "overlay",
              "size": 10,
              "solidity": 0.2
             }
            },
            "type": "histogram"
           }
          ],
          "histogram2d": [
           {
            "colorbar": {
             "outlinewidth": 0,
             "ticks": ""
            },
            "colorscale": [
             [
              0,
              "#0d0887"
             ],
             [
              0.1111111111111111,
              "#46039f"
             ],
             [
              0.2222222222222222,
              "#7201a8"
             ],
             [
              0.3333333333333333,
              "#9c179e"
             ],
             [
              0.4444444444444444,
              "#bd3786"
             ],
             [
              0.5555555555555556,
              "#d8576b"
             ],
             [
              0.6666666666666666,
              "#ed7953"
             ],
             [
              0.7777777777777778,
              "#fb9f3a"
             ],
             [
              0.8888888888888888,
              "#fdca26"
             ],
             [
              1,
              "#f0f921"
             ]
            ],
            "type": "histogram2d"
           }
          ],
          "histogram2dcontour": [
           {
            "colorbar": {
             "outlinewidth": 0,
             "ticks": ""
            },
            "colorscale": [
             [
              0,
              "#0d0887"
             ],
             [
              0.1111111111111111,
              "#46039f"
             ],
             [
              0.2222222222222222,
              "#7201a8"
             ],
             [
              0.3333333333333333,
              "#9c179e"
             ],
             [
              0.4444444444444444,
              "#bd3786"
             ],
             [
              0.5555555555555556,
              "#d8576b"
             ],
             [
              0.6666666666666666,
              "#ed7953"
             ],
             [
              0.7777777777777778,
              "#fb9f3a"
             ],
             [
              0.8888888888888888,
              "#fdca26"
             ],
             [
              1,
              "#f0f921"
             ]
            ],
            "type": "histogram2dcontour"
           }
          ],
          "mesh3d": [
           {
            "colorbar": {
             "outlinewidth": 0,
             "ticks": ""
            },
            "type": "mesh3d"
           }
          ],
          "parcoords": [
           {
            "line": {
             "colorbar": {
              "outlinewidth": 0,
              "ticks": ""
             }
            },
            "type": "parcoords"
           }
          ],
          "pie": [
           {
            "automargin": true,
            "type": "pie"
           }
          ],
          "scatter": [
           {
            "fillpattern": {
             "fillmode": "overlay",
             "size": 10,
             "solidity": 0.2
            },
            "type": "scatter"
           }
          ],
          "scatter3d": [
           {
            "line": {
             "colorbar": {
              "outlinewidth": 0,
              "ticks": ""
             }
            },
            "marker": {
             "colorbar": {
              "outlinewidth": 0,
              "ticks": ""
             }
            },
            "type": "scatter3d"
           }
          ],
          "scattercarpet": [
           {
            "marker": {
             "colorbar": {
              "outlinewidth": 0,
              "ticks": ""
             }
            },
            "type": "scattercarpet"
           }
          ],
          "scattergeo": [
           {
            "marker": {
             "colorbar": {
              "outlinewidth": 0,
              "ticks": ""
             }
            },
            "type": "scattergeo"
           }
          ],
          "scattergl": [
           {
            "marker": {
             "colorbar": {
              "outlinewidth": 0,
              "ticks": ""
             }
            },
            "type": "scattergl"
           }
          ],
          "scattermapbox": [
           {
            "marker": {
             "colorbar": {
              "outlinewidth": 0,
              "ticks": ""
             }
            },
            "type": "scattermapbox"
           }
          ],
          "scatterpolar": [
           {
            "marker": {
             "colorbar": {
              "outlinewidth": 0,
              "ticks": ""
             }
            },
            "type": "scatterpolar"
           }
          ],
          "scatterpolargl": [
           {
            "marker": {
             "colorbar": {
              "outlinewidth": 0,
              "ticks": ""
             }
            },
            "type": "scatterpolargl"
           }
          ],
          "scatterternary": [
           {
            "marker": {
             "colorbar": {
              "outlinewidth": 0,
              "ticks": ""
             }
            },
            "type": "scatterternary"
           }
          ],
          "surface": [
           {
            "colorbar": {
             "outlinewidth": 0,
             "ticks": ""
            },
            "colorscale": [
             [
              0,
              "#0d0887"
             ],
             [
              0.1111111111111111,
              "#46039f"
             ],
             [
              0.2222222222222222,
              "#7201a8"
             ],
             [
              0.3333333333333333,
              "#9c179e"
             ],
             [
              0.4444444444444444,
              "#bd3786"
             ],
             [
              0.5555555555555556,
              "#d8576b"
             ],
             [
              0.6666666666666666,
              "#ed7953"
             ],
             [
              0.7777777777777778,
              "#fb9f3a"
             ],
             [
              0.8888888888888888,
              "#fdca26"
             ],
             [
              1,
              "#f0f921"
             ]
            ],
            "type": "surface"
           }
          ],
          "table": [
           {
            "cells": {
             "fill": {
              "color": "#EBF0F8"
             },
             "line": {
              "color": "white"
             }
            },
            "header": {
             "fill": {
              "color": "#C8D4E3"
             },
             "line": {
              "color": "white"
             }
            },
            "type": "table"
           }
          ]
         },
         "layout": {
          "annotationdefaults": {
           "arrowcolor": "#2a3f5f",
           "arrowhead": 0,
           "arrowwidth": 1
          },
          "autotypenumbers": "strict",
          "coloraxis": {
           "colorbar": {
            "outlinewidth": 0,
            "ticks": ""
           }
          },
          "colorscale": {
           "diverging": [
            [
             0,
             "#8e0152"
            ],
            [
             0.1,
             "#c51b7d"
            ],
            [
             0.2,
             "#de77ae"
            ],
            [
             0.3,
             "#f1b6da"
            ],
            [
             0.4,
             "#fde0ef"
            ],
            [
             0.5,
             "#f7f7f7"
            ],
            [
             0.6,
             "#e6f5d0"
            ],
            [
             0.7,
             "#b8e186"
            ],
            [
             0.8,
             "#7fbc41"
            ],
            [
             0.9,
             "#4d9221"
            ],
            [
             1,
             "#276419"
            ]
           ],
           "sequential": [
            [
             0,
             "#0d0887"
            ],
            [
             0.1111111111111111,
             "#46039f"
            ],
            [
             0.2222222222222222,
             "#7201a8"
            ],
            [
             0.3333333333333333,
             "#9c179e"
            ],
            [
             0.4444444444444444,
             "#bd3786"
            ],
            [
             0.5555555555555556,
             "#d8576b"
            ],
            [
             0.6666666666666666,
             "#ed7953"
            ],
            [
             0.7777777777777778,
             "#fb9f3a"
            ],
            [
             0.8888888888888888,
             "#fdca26"
            ],
            [
             1,
             "#f0f921"
            ]
           ],
           "sequentialminus": [
            [
             0,
             "#0d0887"
            ],
            [
             0.1111111111111111,
             "#46039f"
            ],
            [
             0.2222222222222222,
             "#7201a8"
            ],
            [
             0.3333333333333333,
             "#9c179e"
            ],
            [
             0.4444444444444444,
             "#bd3786"
            ],
            [
             0.5555555555555556,
             "#d8576b"
            ],
            [
             0.6666666666666666,
             "#ed7953"
            ],
            [
             0.7777777777777778,
             "#fb9f3a"
            ],
            [
             0.8888888888888888,
             "#fdca26"
            ],
            [
             1,
             "#f0f921"
            ]
           ]
          },
          "colorway": [
           "#636efa",
           "#EF553B",
           "#00cc96",
           "#ab63fa",
           "#FFA15A",
           "#19d3f3",
           "#FF6692",
           "#B6E880",
           "#FF97FF",
           "#FECB52"
          ],
          "font": {
           "color": "#2a3f5f"
          },
          "geo": {
           "bgcolor": "white",
           "lakecolor": "white",
           "landcolor": "#E5ECF6",
           "showlakes": true,
           "showland": true,
           "subunitcolor": "white"
          },
          "hoverlabel": {
           "align": "left"
          },
          "hovermode": "closest",
          "mapbox": {
           "style": "light"
          },
          "paper_bgcolor": "white",
          "plot_bgcolor": "#E5ECF6",
          "polar": {
           "angularaxis": {
            "gridcolor": "white",
            "linecolor": "white",
            "ticks": ""
           },
           "bgcolor": "#E5ECF6",
           "radialaxis": {
            "gridcolor": "white",
            "linecolor": "white",
            "ticks": ""
           }
          },
          "scene": {
           "xaxis": {
            "backgroundcolor": "#E5ECF6",
            "gridcolor": "white",
            "gridwidth": 2,
            "linecolor": "white",
            "showbackground": true,
            "ticks": "",
            "zerolinecolor": "white"
           },
           "yaxis": {
            "backgroundcolor": "#E5ECF6",
            "gridcolor": "white",
            "gridwidth": 2,
            "linecolor": "white",
            "showbackground": true,
            "ticks": "",
            "zerolinecolor": "white"
           },
           "zaxis": {
            "backgroundcolor": "#E5ECF6",
            "gridcolor": "white",
            "gridwidth": 2,
            "linecolor": "white",
            "showbackground": true,
            "ticks": "",
            "zerolinecolor": "white"
           }
          },
          "shapedefaults": {
           "line": {
            "color": "#2a3f5f"
           }
          },
          "ternary": {
           "aaxis": {
            "gridcolor": "white",
            "linecolor": "white",
            "ticks": ""
           },
           "baxis": {
            "gridcolor": "white",
            "linecolor": "white",
            "ticks": ""
           },
           "bgcolor": "#E5ECF6",
           "caxis": {
            "gridcolor": "white",
            "linecolor": "white",
            "ticks": ""
           }
          },
          "title": {
           "x": 0.05
          },
          "xaxis": {
           "automargin": true,
           "gridcolor": "white",
           "linecolor": "white",
           "ticks": "",
           "title": {
            "standoff": 15
           },
           "zerolinecolor": "white",
           "zerolinewidth": 2
          },
          "yaxis": {
           "automargin": true,
           "gridcolor": "white",
           "linecolor": "white",
           "ticks": "",
           "title": {
            "standoff": 15
           },
           "zerolinecolor": "white",
           "zerolinewidth": 2
          }
         }
        },
        "title": {
         "text": "Stock Prices "
        },
        "xaxis": {
         "title": {
          "font": {
           "color": "#7f7f7f",
           "family": "Courier New, monospace",
           "size": 18
          },
          "text": "Date"
         }
        }
       }
      },
      "text/html": [
       "<div>                            <div id=\"a36aa678-9bb6-48a6-af8d-3eb1a0a5f6b0\" class=\"plotly-graph-div\" style=\"height:525px; width:100%;\"></div>            <script type=\"text/javascript\">                require([\"plotly\"], function(Plotly) {                    window.PLOTLYENV=window.PLOTLYENV || {};                                    if (document.getElementById(\"a36aa678-9bb6-48a6-af8d-3eb1a0a5f6b0\")) {                    Plotly.newPlot(                        \"a36aa678-9bb6-48a6-af8d-3eb1a0a5f6b0\",                        [{\"x\":[\"2020-01-27T00:00:00\",\"2020-01-28T00:00:00\",\"2020-01-29T00:00:00\",\"2020-01-30T00:00:00\",\"2020-01-31T00:00:00\",\"2020-02-03T00:00:00\",\"2020-02-04T00:00:00\",\"2020-02-05T00:00:00\",\"2020-02-06T00:00:00\",\"2020-02-07T00:00:00\",\"2020-02-10T00:00:00\",\"2020-02-11T00:00:00\",\"2020-02-12T00:00:00\",\"2020-02-13T00:00:00\",\"2020-02-14T00:00:00\",\"2020-02-17T00:00:00\",\"2020-02-18T00:00:00\",\"2020-02-19T00:00:00\",\"2020-02-20T00:00:00\",\"2020-02-21T00:00:00\",\"2020-02-24T00:00:00\",\"2020-02-25T00:00:00\",\"2020-02-26T00:00:00\",\"2020-02-27T00:00:00\",\"2020-02-28T00:00:00\",\"2020-03-02T00:00:00\",\"2020-03-03T00:00:00\",\"2020-03-04T00:00:00\",\"2020-03-05T00:00:00\",\"2020-03-06T00:00:00\",\"2020-03-09T00:00:00\",\"2020-03-10T00:00:00\",\"2020-03-11T00:00:00\",\"2020-03-12T00:00:00\",\"2020-03-13T00:00:00\",\"2020-03-16T00:00:00\",\"2020-03-17T00:00:00\",\"2020-03-18T00:00:00\",\"2020-03-19T00:00:00\",\"2020-03-20T00:00:00\",\"2020-03-23T00:00:00\",\"2020-03-24T00:00:00\",\"2020-03-25T00:00:00\",\"2020-03-26T00:00:00\",\"2020-03-27T00:00:00\",\"2020-03-30T00:00:00\",\"2020-03-31T00:00:00\",\"2020-04-01T00:00:00\",\"2020-04-02T00:00:00\",\"2020-04-03T00:00:00\",\"2020-04-06T00:00:00\",\"2020-04-07T00:00:00\",\"2020-04-08T00:00:00\",\"2020-04-09T00:00:00\",\"2020-04-10T00:00:00\",\"2020-04-13T00:00:00\",\"2020-04-14T00:00:00\",\"2020-04-15T00:00:00\",\"2020-04-16T00:00:00\",\"2020-04-17T00:00:00\",\"2020-04-20T00:00:00\",\"2020-04-21T00:00:00\",\"2020-04-22T00:00:00\",\"2020-04-23T00:00:00\",\"2020-04-24T00:00:00\",\"2020-04-27T00:00:00\",\"2020-04-28T00:00:00\",\"2020-04-29T00:00:00\",\"2020-04-30T00:00:00\",\"2020-05-01T00:00:00\",\"2020-05-04T00:00:00\",\"2020-05-05T00:00:00\",\"2020-05-06T00:00:00\",\"2020-05-07T00:00:00\",\"2020-05-08T00:00:00\",\"2020-05-11T00:00:00\",\"2020-05-12T00:00:00\",\"2020-05-13T00:00:00\",\"2020-05-14T00:00:00\",\"2020-05-15T00:00:00\",\"2020-05-18T00:00:00\",\"2020-05-19T00:00:00\",\"2020-05-20T00:00:00\",\"2020-05-21T00:00:00\",\"2020-05-22T00:00:00\",\"2020-05-25T00:00:00\",\"2020-05-26T00:00:00\",\"2020-05-27T00:00:00\",\"2020-05-28T00:00:00\",\"2020-05-29T00:00:00\",\"2020-06-01T00:00:00\",\"2020-06-02T00:00:00\",\"2020-06-03T00:00:00\",\"2020-06-04T00:00:00\",\"2020-06-05T00:00:00\",\"2020-06-08T00:00:00\",\"2020-06-09T00:00:00\",\"2020-06-10T00:00:00\",\"2020-06-11T00:00:00\",\"2020-06-12T00:00:00\",\"2020-06-15T00:00:00\",\"2020-06-16T00:00:00\",\"2020-06-17T00:00:00\",\"2020-06-18T00:00:00\",\"2020-06-19T00:00:00\",\"2020-06-22T00:00:00\",\"2020-06-23T00:00:00\",\"2020-06-24T00:00:00\",\"2020-06-25T00:00:00\",\"2020-06-26T00:00:00\",\"2020-06-29T00:00:00\",\"2020-06-30T00:00:00\",\"2020-07-01T00:00:00\",\"2020-07-02T00:00:00\",\"2020-07-03T00:00:00\",\"2020-07-06T00:00:00\",\"2020-07-07T00:00:00\",\"2020-07-08T00:00:00\",\"2020-07-09T00:00:00\",\"2020-07-10T00:00:00\",\"2020-07-13T00:00:00\",\"2020-07-14T00:00:00\",\"2020-07-15T00:00:00\",\"2020-07-16T00:00:00\",\"2020-07-17T00:00:00\",\"2020-07-20T00:00:00\",\"2020-07-21T00:00:00\",\"2020-07-22T00:00:00\",\"2020-07-23T00:00:00\",\"2020-07-24T00:00:00\",\"2020-07-27T00:00:00\",\"2020-07-28T00:00:00\",\"2020-07-29T00:00:00\",\"2020-07-30T00:00:00\",\"2020-07-31T00:00:00\",\"2020-08-03T00:00:00\",\"2020-08-04T00:00:00\",\"2020-08-05T00:00:00\",\"2020-08-06T00:00:00\",\"2020-08-07T00:00:00\",\"2020-08-10T00:00:00\",\"2020-08-11T00:00:00\",\"2020-08-12T00:00:00\",\"2020-08-13T00:00:00\",\"2020-08-14T00:00:00\",\"2020-08-17T00:00:00\",\"2020-08-18T00:00:00\",\"2020-08-19T00:00:00\",\"2020-08-20T00:00:00\",\"2020-08-21T00:00:00\",\"2020-08-24T00:00:00\",\"2020-08-25T00:00:00\",\"2020-08-26T00:00:00\",\"2020-08-27T00:00:00\",\"2020-08-28T00:00:00\",\"2020-08-31T00:00:00\",\"2020-09-01T00:00:00\",\"2020-09-02T00:00:00\",\"2020-09-03T00:00:00\",\"2020-09-04T00:00:00\",\"2020-09-07T00:00:00\",\"2020-09-08T00:00:00\",\"2020-09-09T00:00:00\",\"2020-09-10T00:00:00\",\"2020-09-11T00:00:00\",\"2020-09-14T00:00:00\",\"2020-09-15T00:00:00\",\"2020-09-16T00:00:00\",\"2020-09-17T00:00:00\",\"2020-09-18T00:00:00\",\"2020-09-21T00:00:00\",\"2020-09-22T00:00:00\",\"2020-09-23T00:00:00\",\"2020-09-24T00:00:00\",\"2020-09-25T00:00:00\",\"2020-09-28T00:00:00\",\"2020-09-29T00:00:00\",\"2020-09-30T00:00:00\",\"2020-10-01T00:00:00\",\"2020-10-02T00:00:00\",\"2020-10-05T00:00:00\",\"2020-10-06T00:00:00\",\"2020-10-07T00:00:00\",\"2020-10-08T00:00:00\",\"2020-10-09T00:00:00\",\"2020-10-12T00:00:00\",\"2020-10-13T00:00:00\",\"2020-10-14T00:00:00\",\"2020-10-15T00:00:00\",\"2020-10-16T00:00:00\",\"2020-10-19T00:00:00\",\"2020-10-20T00:00:00\",\"2020-10-21T00:00:00\",\"2020-10-22T00:00:00\",\"2020-10-23T00:00:00\",\"2020-10-26T00:00:00\",\"2020-10-27T00:00:00\",\"2020-10-28T00:00:00\",\"2020-10-29T00:00:00\",\"2020-10-30T00:00:00\",\"2020-11-02T00:00:00\",\"2020-11-03T00:00:00\",\"2020-11-04T00:00:00\",\"2020-11-05T00:00:00\",\"2020-11-06T00:00:00\",\"2020-11-09T00:00:00\",\"2020-11-10T00:00:00\",\"2020-11-11T00:00:00\",\"2020-11-12T00:00:00\",\"2020-11-13T00:00:00\",\"2020-11-16T00:00:00\",\"2020-11-17T00:00:00\",\"2020-11-18T00:00:00\",\"2020-11-19T00:00:00\",\"2020-11-20T00:00:00\",\"2020-11-23T00:00:00\",\"2020-11-24T00:00:00\",\"2020-11-25T00:00:00\",\"2020-11-26T00:00:00\",\"2020-11-27T00:00:00\",\"2020-11-30T00:00:00\",\"2020-12-01T00:00:00\",\"2020-12-02T00:00:00\",\"2020-12-03T00:00:00\",\"2020-12-04T00:00:00\",\"2020-12-07T00:00:00\",\"2020-12-08T00:00:00\",\"2020-12-09T00:00:00\",\"2020-12-10T00:00:00\",\"2020-12-11T00:00:00\",\"2020-12-14T00:00:00\",\"2020-12-15T00:00:00\",\"2020-12-16T00:00:00\",\"2020-12-17T00:00:00\",\"2020-12-18T00:00:00\",\"2020-12-21T00:00:00\",\"2020-12-22T00:00:00\",\"2020-12-23T00:00:00\",\"2020-12-24T00:00:00\",\"2020-12-25T00:00:00\",\"2020-12-28T00:00:00\",\"2020-12-29T00:00:00\",\"2020-12-30T00:00:00\",\"2020-12-31T00:00:00\",\"2021-01-01T00:00:00\",\"2021-01-04T00:00:00\",\"2021-01-05T00:00:00\",\"2021-01-06T00:00:00\",\"2021-01-07T00:00:00\",\"2021-01-08T00:00:00\",\"2021-01-11T00:00:00\",\"2021-01-12T00:00:00\",\"2021-01-13T00:00:00\",\"2021-01-14T00:00:00\",\"2021-01-15T00:00:00\",\"2021-01-18T00:00:00\",\"2021-01-19T00:00:00\",\"2021-01-20T00:00:00\",\"2021-01-21T00:00:00\",\"2021-01-22T00:00:00\",\"2021-01-25T00:00:00\",\"2021-01-26T00:00:00\"],\"y\":[71.324997,71.440002,71.2304,71.300003,71.639999,71.496498,71.314102,71.099998,71.18,71.470001,71.515503,71.279999,71.275299,71.296204,71.268501,71.514801,71.349197,71.574997,71.827499,72.110001,71.886803,72.0467,71.870003,71.663399,71.93,72.150002,72.824997,73.342003,74.042503,73.855103,73.9953,74.405998,74.205002,74.760002,75.300003,73.903999,75.154999,74.012398,74.982002,75.159698,75.622101,76.505997,77.260002,75.845497,74.725601,75.464996,75.400002,75.324997,77.57,77.139999,76.230003,75.964897,76.660004,75.959,76.650002,76.166496,76.910004,75.931,77.212502,77.57,76.559998,77.209999,76.969398,76.400002,76.422501,76.2715,76.186302,76.464996,75.258499,75.720001,75.600502,75.849998,76.169998,76.151299,76.080002,75.525002,76.309998,75.68,75.426201,75.485001,75.82,75.600098,76.0,75.779999,75.625,75.985001,76.110001,75.82,76.129997,75.959999,75.513199,75.730003,75.065804,75.544998,75.490898,75.5177,75.625,75.509804,75.875,76.389999,75.956802,75.977997,76.654999,76.550003,76.400398,76.252098,75.789803,75.607803,75.970001,75.539803,75.619797,75.699997,75.75,75.454903,74.721001,74.679298,74.607597,75.125,74.939903,75.339996,75.158501,75.449997,75.574997,75.124901,75.1745,74.897301,74.989998,74.769997,74.82,74.807297,74.759804,75.0,75.089996,74.8312,74.989998,74.917801,75.330002,75.25,74.882202,74.899803,75.024803,75.099998,74.900002,74.772102,75.029999,74.902802,75.0,74.794998,74.966797,74.999901,74.921799,74.400002,74.452499,74.240097,73.774498,73.128304,73.669998,73.269997,73.248497,73.447899,73.290298,73.650002,73.786797,73.550003,73.527298,73.4786,73.614998,73.800003,73.550697,73.583603,73.534798,73.579803,73.502998,73.778397,73.682404,73.699303,73.974998,73.845001,73.705002,73.217003,73.322403,73.108299,73.815002,73.542503,73.280502,73.014801,73.3508,73.620003,73.296204,73.371002,73.443802,73.574997,73.647499,73.681297,73.720001,73.822899,73.948502,73.805,74.440002,74.264,74.550499,74.456802,74.655602,74.379997,74.120003,73.979797,73.953201,74.281601,74.57,74.864998,74.487701,74.418098,74.479698,74.419998,74.099602,74.162399,74.244904,73.9608,73.7799,74.048798,73.940903,74.0252,73.654999,73.662598,73.864899,73.790298,74.019997,73.726402,73.934998,73.7267,73.737999,73.860001,73.759804,73.6166,73.5298,73.6036,73.935303,74.269997,73.839798,73.5578,73.689003,73.544899,73.453598,73.134003,73.089203,73.092003,73.32,73.374802,73.360001,73.445999,73.373398,73.513496,73.165001,73.169899,73.087601,73.158997,73.188698,73.191902,72.910896,72.954903,72.995903,72.970001],\"type\":\"scatter\"}],                        {\"template\":{\"data\":{\"barpolar\":[{\"marker\":{\"line\":{\"color\":\"#E5ECF6\",\"width\":0.5},\"pattern\":{\"fillmode\":\"overlay\",\"size\":10,\"solidity\":0.2}},\"type\":\"barpolar\"}],\"bar\":[{\"error_x\":{\"color\":\"#2a3f5f\"},\"error_y\":{\"color\":\"#2a3f5f\"},\"marker\":{\"line\":{\"color\":\"#E5ECF6\",\"width\":0.5},\"pattern\":{\"fillmode\":\"overlay\",\"size\":10,\"solidity\":0.2}},\"type\":\"bar\"}],\"carpet\":[{\"aaxis\":{\"endlinecolor\":\"#2a3f5f\",\"gridcolor\":\"white\",\"linecolor\":\"white\",\"minorgridcolor\":\"white\",\"startlinecolor\":\"#2a3f5f\"},\"baxis\":{\"endlinecolor\":\"#2a3f5f\",\"gridcolor\":\"white\",\"linecolor\":\"white\",\"minorgridcolor\":\"white\",\"startlinecolor\":\"#2a3f5f\"},\"type\":\"carpet\"}],\"choropleth\":[{\"colorbar\":{\"outlinewidth\":0,\"ticks\":\"\"},\"type\":\"choropleth\"}],\"contourcarpet\":[{\"colorbar\":{\"outlinewidth\":0,\"ticks\":\"\"},\"type\":\"contourcarpet\"}],\"contour\":[{\"colorbar\":{\"outlinewidth\":0,\"ticks\":\"\"},\"colorscale\":[[0.0,\"#0d0887\"],[0.1111111111111111,\"#46039f\"],[0.2222222222222222,\"#7201a8\"],[0.3333333333333333,\"#9c179e\"],[0.4444444444444444,\"#bd3786\"],[0.5555555555555556,\"#d8576b\"],[0.6666666666666666,\"#ed7953\"],[0.7777777777777778,\"#fb9f3a\"],[0.8888888888888888,\"#fdca26\"],[1.0,\"#f0f921\"]],\"type\":\"contour\"}],\"heatmapgl\":[{\"colorbar\":{\"outlinewidth\":0,\"ticks\":\"\"},\"colorscale\":[[0.0,\"#0d0887\"],[0.1111111111111111,\"#46039f\"],[0.2222222222222222,\"#7201a8\"],[0.3333333333333333,\"#9c179e\"],[0.4444444444444444,\"#bd3786\"],[0.5555555555555556,\"#d8576b\"],[0.6666666666666666,\"#ed7953\"],[0.7777777777777778,\"#fb9f3a\"],[0.8888888888888888,\"#fdca26\"],[1.0,\"#f0f921\"]],\"type\":\"heatmapgl\"}],\"heatmap\":[{\"colorbar\":{\"outlinewidth\":0,\"ticks\":\"\"},\"colorscale\":[[0.0,\"#0d0887\"],[0.1111111111111111,\"#46039f\"],[0.2222222222222222,\"#7201a8\"],[0.3333333333333333,\"#9c179e\"],[0.4444444444444444,\"#bd3786\"],[0.5555555555555556,\"#d8576b\"],[0.6666666666666666,\"#ed7953\"],[0.7777777777777778,\"#fb9f3a\"],[0.8888888888888888,\"#fdca26\"],[1.0,\"#f0f921\"]],\"type\":\"heatmap\"}],\"histogram2dcontour\":[{\"colorbar\":{\"outlinewidth\":0,\"ticks\":\"\"},\"colorscale\":[[0.0,\"#0d0887\"],[0.1111111111111111,\"#46039f\"],[0.2222222222222222,\"#7201a8\"],[0.3333333333333333,\"#9c179e\"],[0.4444444444444444,\"#bd3786\"],[0.5555555555555556,\"#d8576b\"],[0.6666666666666666,\"#ed7953\"],[0.7777777777777778,\"#fb9f3a\"],[0.8888888888888888,\"#fdca26\"],[1.0,\"#f0f921\"]],\"type\":\"histogram2dcontour\"}],\"histogram2d\":[{\"colorbar\":{\"outlinewidth\":0,\"ticks\":\"\"},\"colorscale\":[[0.0,\"#0d0887\"],[0.1111111111111111,\"#46039f\"],[0.2222222222222222,\"#7201a8\"],[0.3333333333333333,\"#9c179e\"],[0.4444444444444444,\"#bd3786\"],[0.5555555555555556,\"#d8576b\"],[0.6666666666666666,\"#ed7953\"],[0.7777777777777778,\"#fb9f3a\"],[0.8888888888888888,\"#fdca26\"],[1.0,\"#f0f921\"]],\"type\":\"histogram2d\"}],\"histogram\":[{\"marker\":{\"pattern\":{\"fillmode\":\"overlay\",\"size\":10,\"solidity\":0.2}},\"type\":\"histogram\"}],\"mesh3d\":[{\"colorbar\":{\"outlinewidth\":0,\"ticks\":\"\"},\"type\":\"mesh3d\"}],\"parcoords\":[{\"line\":{\"colorbar\":{\"outlinewidth\":0,\"ticks\":\"\"}},\"type\":\"parcoords\"}],\"pie\":[{\"automargin\":true,\"type\":\"pie\"}],\"scatter3d\":[{\"line\":{\"colorbar\":{\"outlinewidth\":0,\"ticks\":\"\"}},\"marker\":{\"colorbar\":{\"outlinewidth\":0,\"ticks\":\"\"}},\"type\":\"scatter3d\"}],\"scattercarpet\":[{\"marker\":{\"colorbar\":{\"outlinewidth\":0,\"ticks\":\"\"}},\"type\":\"scattercarpet\"}],\"scattergeo\":[{\"marker\":{\"colorbar\":{\"outlinewidth\":0,\"ticks\":\"\"}},\"type\":\"scattergeo\"}],\"scattergl\":[{\"marker\":{\"colorbar\":{\"outlinewidth\":0,\"ticks\":\"\"}},\"type\":\"scattergl\"}],\"scattermapbox\":[{\"marker\":{\"colorbar\":{\"outlinewidth\":0,\"ticks\":\"\"}},\"type\":\"scattermapbox\"}],\"scatterpolargl\":[{\"marker\":{\"colorbar\":{\"outlinewidth\":0,\"ticks\":\"\"}},\"type\":\"scatterpolargl\"}],\"scatterpolar\":[{\"marker\":{\"colorbar\":{\"outlinewidth\":0,\"ticks\":\"\"}},\"type\":\"scatterpolar\"}],\"scatter\":[{\"fillpattern\":{\"fillmode\":\"overlay\",\"size\":10,\"solidity\":0.2},\"type\":\"scatter\"}],\"scatterternary\":[{\"marker\":{\"colorbar\":{\"outlinewidth\":0,\"ticks\":\"\"}},\"type\":\"scatterternary\"}],\"surface\":[{\"colorbar\":{\"outlinewidth\":0,\"ticks\":\"\"},\"colorscale\":[[0.0,\"#0d0887\"],[0.1111111111111111,\"#46039f\"],[0.2222222222222222,\"#7201a8\"],[0.3333333333333333,\"#9c179e\"],[0.4444444444444444,\"#bd3786\"],[0.5555555555555556,\"#d8576b\"],[0.6666666666666666,\"#ed7953\"],[0.7777777777777778,\"#fb9f3a\"],[0.8888888888888888,\"#fdca26\"],[1.0,\"#f0f921\"]],\"type\":\"surface\"}],\"table\":[{\"cells\":{\"fill\":{\"color\":\"#EBF0F8\"},\"line\":{\"color\":\"white\"}},\"header\":{\"fill\":{\"color\":\"#C8D4E3\"},\"line\":{\"color\":\"white\"}},\"type\":\"table\"}]},\"layout\":{\"annotationdefaults\":{\"arrowcolor\":\"#2a3f5f\",\"arrowhead\":0,\"arrowwidth\":1},\"autotypenumbers\":\"strict\",\"coloraxis\":{\"colorbar\":{\"outlinewidth\":0,\"ticks\":\"\"}},\"colorscale\":{\"diverging\":[[0,\"#8e0152\"],[0.1,\"#c51b7d\"],[0.2,\"#de77ae\"],[0.3,\"#f1b6da\"],[0.4,\"#fde0ef\"],[0.5,\"#f7f7f7\"],[0.6,\"#e6f5d0\"],[0.7,\"#b8e186\"],[0.8,\"#7fbc41\"],[0.9,\"#4d9221\"],[1,\"#276419\"]],\"sequential\":[[0.0,\"#0d0887\"],[0.1111111111111111,\"#46039f\"],[0.2222222222222222,\"#7201a8\"],[0.3333333333333333,\"#9c179e\"],[0.4444444444444444,\"#bd3786\"],[0.5555555555555556,\"#d8576b\"],[0.6666666666666666,\"#ed7953\"],[0.7777777777777778,\"#fb9f3a\"],[0.8888888888888888,\"#fdca26\"],[1.0,\"#f0f921\"]],\"sequentialminus\":[[0.0,\"#0d0887\"],[0.1111111111111111,\"#46039f\"],[0.2222222222222222,\"#7201a8\"],[0.3333333333333333,\"#9c179e\"],[0.4444444444444444,\"#bd3786\"],[0.5555555555555556,\"#d8576b\"],[0.6666666666666666,\"#ed7953\"],[0.7777777777777778,\"#fb9f3a\"],[0.8888888888888888,\"#fdca26\"],[1.0,\"#f0f921\"]]},\"colorway\":[\"#636efa\",\"#EF553B\",\"#00cc96\",\"#ab63fa\",\"#FFA15A\",\"#19d3f3\",\"#FF6692\",\"#B6E880\",\"#FF97FF\",\"#FECB52\"],\"font\":{\"color\":\"#2a3f5f\"},\"geo\":{\"bgcolor\":\"white\",\"lakecolor\":\"white\",\"landcolor\":\"#E5ECF6\",\"showlakes\":true,\"showland\":true,\"subunitcolor\":\"white\"},\"hoverlabel\":{\"align\":\"left\"},\"hovermode\":\"closest\",\"mapbox\":{\"style\":\"light\"},\"paper_bgcolor\":\"white\",\"plot_bgcolor\":\"#E5ECF6\",\"polar\":{\"angularaxis\":{\"gridcolor\":\"white\",\"linecolor\":\"white\",\"ticks\":\"\"},\"bgcolor\":\"#E5ECF6\",\"radialaxis\":{\"gridcolor\":\"white\",\"linecolor\":\"white\",\"ticks\":\"\"}},\"scene\":{\"xaxis\":{\"backgroundcolor\":\"#E5ECF6\",\"gridcolor\":\"white\",\"gridwidth\":2,\"linecolor\":\"white\",\"showbackground\":true,\"ticks\":\"\",\"zerolinecolor\":\"white\"},\"yaxis\":{\"backgroundcolor\":\"#E5ECF6\",\"gridcolor\":\"white\",\"gridwidth\":2,\"linecolor\":\"white\",\"showbackground\":true,\"ticks\":\"\",\"zerolinecolor\":\"white\"},\"zaxis\":{\"backgroundcolor\":\"#E5ECF6\",\"gridcolor\":\"white\",\"gridwidth\":2,\"linecolor\":\"white\",\"showbackground\":true,\"ticks\":\"\",\"zerolinecolor\":\"white\"}},\"shapedefaults\":{\"line\":{\"color\":\"#2a3f5f\"}},\"ternary\":{\"aaxis\":{\"gridcolor\":\"white\",\"linecolor\":\"white\",\"ticks\":\"\"},\"baxis\":{\"gridcolor\":\"white\",\"linecolor\":\"white\",\"ticks\":\"\"},\"bgcolor\":\"#E5ECF6\",\"caxis\":{\"gridcolor\":\"white\",\"linecolor\":\"white\",\"ticks\":\"\"}},\"title\":{\"x\":0.05},\"xaxis\":{\"automargin\":true,\"gridcolor\":\"white\",\"linecolor\":\"white\",\"ticks\":\"\",\"title\":{\"standoff\":15},\"zerolinecolor\":\"white\",\"zerolinewidth\":2},\"yaxis\":{\"automargin\":true,\"gridcolor\":\"white\",\"linecolor\":\"white\",\"ticks\":\"\",\"title\":{\"standoff\":15},\"zerolinecolor\":\"white\",\"zerolinewidth\":2}}},\"title\":{\"text\":\"Stock Prices \"},\"xaxis\":{\"title\":{\"font\":{\"color\":\"#7f7f7f\",\"family\":\"Courier New, monospace\",\"size\":18},\"text\":\"Date\"}}},                        {\"responsive\": true}                    ).then(function(){\n",
       "                            \n",
       "var gd = document.getElementById('a36aa678-9bb6-48a6-af8d-3eb1a0a5f6b0');\n",
       "var x = new MutationObserver(function (mutations, observer) {{\n",
       "        var display = window.getComputedStyle(gd).display;\n",
       "        if (!display || display === 'none') {{\n",
       "            console.log([gd, 'removed!']);\n",
       "            Plotly.purge(gd);\n",
       "            observer.disconnect();\n",
       "        }}\n",
       "}});\n",
       "\n",
       "// Listen for the removal of the full notebook cells\n",
       "var notebookContainer = gd.closest('#notebook-container');\n",
       "if (notebookContainer) {{\n",
       "    x.observe(notebookContainer, {childList: true});\n",
       "}}\n",
       "\n",
       "// Listen for the clearing of the current output cell\n",
       "var outputEl = gd.closest('.output');\n",
       "if (outputEl) {{\n",
       "    x.observe(outputEl, {childList: true});\n",
       "}}\n",
       "\n",
       "                        })                };                });            </script>        </div>"
      ]
     },
     "metadata": {},
     "output_type": "display_data"
    }
   ],
   "source": [
    "iplot(plot)"
   ]
  },
  {
   "cell_type": "markdown",
   "id": "48c51c33",
   "metadata": {},
   "source": [
    "# # Data preprocessing"
   ]
  },
  {
   "cell_type": "code",
   "execution_count": 14,
   "id": "37fa9e08",
   "metadata": {},
   "outputs": [
    {
     "data": {
      "text/html": [
       "<div>\n",
       "<style scoped>\n",
       "    .dataframe tbody tr th:only-of-type {\n",
       "        vertical-align: middle;\n",
       "    }\n",
       "\n",
       "    .dataframe tbody tr th {\n",
       "        vertical-align: top;\n",
       "    }\n",
       "\n",
       "    .dataframe thead th {\n",
       "        text-align: right;\n",
       "    }\n",
       "</style>\n",
       "<table border=\"1\" class=\"dataframe\">\n",
       "  <thead>\n",
       "    <tr style=\"text-align: right;\">\n",
       "      <th></th>\n",
       "      <th>Open</th>\n",
       "      <th>High</th>\n",
       "      <th>Low</th>\n",
       "      <th>Close</th>\n",
       "      <th>Adj Close</th>\n",
       "      <th>Volume</th>\n",
       "    </tr>\n",
       "  </thead>\n",
       "  <tbody>\n",
       "    <tr>\n",
       "      <th>0</th>\n",
       "      <td>71.320000</td>\n",
       "      <td>71.635002</td>\n",
       "      <td>71.320000</td>\n",
       "      <td>71.324997</td>\n",
       "      <td>71.324997</td>\n",
       "      <td>0</td>\n",
       "    </tr>\n",
       "    <tr>\n",
       "      <th>1</th>\n",
       "      <td>71.654999</td>\n",
       "      <td>71.654999</td>\n",
       "      <td>71.178001</td>\n",
       "      <td>71.440002</td>\n",
       "      <td>71.440002</td>\n",
       "      <td>0</td>\n",
       "    </tr>\n",
       "    <tr>\n",
       "      <th>2</th>\n",
       "      <td>71.230103</td>\n",
       "      <td>71.425003</td>\n",
       "      <td>71.168503</td>\n",
       "      <td>71.230400</td>\n",
       "      <td>71.230400</td>\n",
       "      <td>0</td>\n",
       "    </tr>\n",
       "    <tr>\n",
       "      <th>3</th>\n",
       "      <td>71.300003</td>\n",
       "      <td>71.711998</td>\n",
       "      <td>71.300003</td>\n",
       "      <td>71.300003</td>\n",
       "      <td>71.300003</td>\n",
       "      <td>0</td>\n",
       "    </tr>\n",
       "    <tr>\n",
       "      <th>4</th>\n",
       "      <td>71.639999</td>\n",
       "      <td>71.639999</td>\n",
       "      <td>71.277496</td>\n",
       "      <td>71.639999</td>\n",
       "      <td>71.639999</td>\n",
       "      <td>0</td>\n",
       "    </tr>\n",
       "  </tbody>\n",
       "</table>\n",
       "</div>"
      ],
      "text/plain": [
       "        Open       High        Low      Close  Adj Close  Volume\n",
       "0  71.320000  71.635002  71.320000  71.324997  71.324997       0\n",
       "1  71.654999  71.654999  71.178001  71.440002  71.440002       0\n",
       "2  71.230103  71.425003  71.168503  71.230400  71.230400       0\n",
       "3  71.300003  71.711998  71.300003  71.300003  71.300003       0\n",
       "4  71.639999  71.639999  71.277496  71.639999  71.639999       0"
      ]
     },
     "execution_count": 14,
     "metadata": {},
     "output_type": "execute_result"
    }
   ],
   "source": [
    "data.drop(['Date'], axis = 1, inplace= True)\n",
    "data.head()"
   ]
  },
  {
   "cell_type": "code",
   "execution_count": 16,
   "id": "0196a320",
   "metadata": {},
   "outputs": [],
   "source": [
    "std= StandardScaler()\n",
    "data = std.fit_transform(data)"
   ]
  },
  {
   "cell_type": "code",
   "execution_count": 17,
   "id": "eddcaf6b",
   "metadata": {},
   "outputs": [
    {
     "data": {
      "text/html": [
       "<div>\n",
       "<style scoped>\n",
       "    .dataframe tbody tr th:only-of-type {\n",
       "        vertical-align: middle;\n",
       "    }\n",
       "\n",
       "    .dataframe tbody tr th {\n",
       "        vertical-align: top;\n",
       "    }\n",
       "\n",
       "    .dataframe thead th {\n",
       "        text-align: right;\n",
       "    }\n",
       "</style>\n",
       "<table border=\"1\" class=\"dataframe\">\n",
       "  <thead>\n",
       "    <tr style=\"text-align: right;\">\n",
       "      <th></th>\n",
       "      <th>0</th>\n",
       "      <th>1</th>\n",
       "      <th>2</th>\n",
       "      <th>3</th>\n",
       "      <th>4</th>\n",
       "      <th>5</th>\n",
       "    </tr>\n",
       "  </thead>\n",
       "  <tbody>\n",
       "    <tr>\n",
       "      <th>0</th>\n",
       "      <td>-2.158109</td>\n",
       "      <td>-2.008550</td>\n",
       "      <td>-2.056080</td>\n",
       "      <td>-2.130978</td>\n",
       "      <td>-2.130978</td>\n",
       "      <td>0.0</td>\n",
       "    </tr>\n",
       "    <tr>\n",
       "      <th>1</th>\n",
       "      <td>-1.921345</td>\n",
       "      <td>-1.995144</td>\n",
       "      <td>-2.164573</td>\n",
       "      <td>-2.050189</td>\n",
       "      <td>-2.050189</td>\n",
       "      <td>0.0</td>\n",
       "    </tr>\n",
       "    <tr>\n",
       "      <th>2</th>\n",
       "      <td>-2.221644</td>\n",
       "      <td>-2.149331</td>\n",
       "      <td>-2.171830</td>\n",
       "      <td>-2.197431</td>\n",
       "      <td>-2.197431</td>\n",
       "      <td>0.0</td>\n",
       "    </tr>\n",
       "    <tr>\n",
       "      <th>3</th>\n",
       "      <td>-2.172242</td>\n",
       "      <td>-1.956932</td>\n",
       "      <td>-2.071358</td>\n",
       "      <td>-2.148536</td>\n",
       "      <td>-2.148536</td>\n",
       "      <td>0.0</td>\n",
       "    </tr>\n",
       "    <tr>\n",
       "      <th>4</th>\n",
       "      <td>-1.931947</td>\n",
       "      <td>-2.005200</td>\n",
       "      <td>-2.088555</td>\n",
       "      <td>-1.909695</td>\n",
       "      <td>-1.909695</td>\n",
       "      <td>0.0</td>\n",
       "    </tr>\n",
       "  </tbody>\n",
       "</table>\n",
       "</div>"
      ],
      "text/plain": [
       "          0         1         2         3         4    5\n",
       "0 -2.158109 -2.008550 -2.056080 -2.130978 -2.130978  0.0\n",
       "1 -1.921345 -1.995144 -2.164573 -2.050189 -2.050189  0.0\n",
       "2 -2.221644 -2.149331 -2.171830 -2.197431 -2.197431  0.0\n",
       "3 -2.172242 -1.956932 -2.071358 -2.148536 -2.148536  0.0\n",
       "4 -1.931947 -2.005200 -2.088555 -1.909695 -1.909695  0.0"
      ]
     },
     "execution_count": 17,
     "metadata": {},
     "output_type": "execute_result"
    }
   ],
   "source": [
    "new_data = pd.DataFrame(data)\n",
    "new_data.head()"
   ]
  },
  {
   "cell_type": "code",
   "execution_count": 18,
   "id": "7daca29f",
   "metadata": {},
   "outputs": [
    {
     "data": {
      "text/html": [
       "<div>\n",
       "<style scoped>\n",
       "    .dataframe tbody tr th:only-of-type {\n",
       "        vertical-align: middle;\n",
       "    }\n",
       "\n",
       "    .dataframe tbody tr th {\n",
       "        vertical-align: top;\n",
       "    }\n",
       "\n",
       "    .dataframe thead th {\n",
       "        text-align: right;\n",
       "    }\n",
       "</style>\n",
       "<table border=\"1\" class=\"dataframe\">\n",
       "  <thead>\n",
       "    <tr style=\"text-align: right;\">\n",
       "      <th></th>\n",
       "      <th>Open</th>\n",
       "      <th>High</th>\n",
       "      <th>Low</th>\n",
       "      <th>Close</th>\n",
       "      <th>Adj Close</th>\n",
       "      <th>Volume</th>\n",
       "    </tr>\n",
       "  </thead>\n",
       "  <tbody>\n",
       "    <tr>\n",
       "      <th>0</th>\n",
       "      <td>-2.158109</td>\n",
       "      <td>-2.008550</td>\n",
       "      <td>-2.056080</td>\n",
       "      <td>-2.130978</td>\n",
       "      <td>-2.130978</td>\n",
       "      <td>0.0</td>\n",
       "    </tr>\n",
       "    <tr>\n",
       "      <th>1</th>\n",
       "      <td>-1.921345</td>\n",
       "      <td>-1.995144</td>\n",
       "      <td>-2.164573</td>\n",
       "      <td>-2.050189</td>\n",
       "      <td>-2.050189</td>\n",
       "      <td>0.0</td>\n",
       "    </tr>\n",
       "    <tr>\n",
       "      <th>2</th>\n",
       "      <td>-2.221644</td>\n",
       "      <td>-2.149331</td>\n",
       "      <td>-2.171830</td>\n",
       "      <td>-2.197431</td>\n",
       "      <td>-2.197431</td>\n",
       "      <td>0.0</td>\n",
       "    </tr>\n",
       "    <tr>\n",
       "      <th>3</th>\n",
       "      <td>-2.172242</td>\n",
       "      <td>-1.956932</td>\n",
       "      <td>-2.071358</td>\n",
       "      <td>-2.148536</td>\n",
       "      <td>-2.148536</td>\n",
       "      <td>0.0</td>\n",
       "    </tr>\n",
       "    <tr>\n",
       "      <th>4</th>\n",
       "      <td>-1.931947</td>\n",
       "      <td>-2.005200</td>\n",
       "      <td>-2.088555</td>\n",
       "      <td>-1.909695</td>\n",
       "      <td>-1.909695</td>\n",
       "      <td>0.0</td>\n",
       "    </tr>\n",
       "  </tbody>\n",
       "</table>\n",
       "</div>"
      ],
      "text/plain": [
       "       Open      High       Low     Close  Adj Close  Volume\n",
       "0 -2.158109 -2.008550 -2.056080 -2.130978  -2.130978     0.0\n",
       "1 -1.921345 -1.995144 -2.164573 -2.050189  -2.050189     0.0\n",
       "2 -2.221644 -2.149331 -2.171830 -2.197431  -2.197431     0.0\n",
       "3 -2.172242 -1.956932 -2.071358 -2.148536  -2.148536     0.0\n",
       "4 -1.931947 -2.005200 -2.088555 -1.909695  -1.909695     0.0"
      ]
     },
     "execution_count": 18,
     "metadata": {},
     "output_type": "execute_result"
    }
   ],
   "source": [
    "new_data.columns=['Open','High','Low','Close','Adj Close','Volume']\n",
    "new_data.head()"
   ]
  },
  {
   "cell_type": "code",
   "execution_count": 19,
   "id": "482c323e",
   "metadata": {},
   "outputs": [
    {
     "data": {
      "text/html": [
       "<div>\n",
       "<style scoped>\n",
       "    .dataframe tbody tr th:only-of-type {\n",
       "        vertical-align: middle;\n",
       "    }\n",
       "\n",
       "    .dataframe tbody tr th {\n",
       "        vertical-align: top;\n",
       "    }\n",
       "\n",
       "    .dataframe thead th {\n",
       "        text-align: right;\n",
       "    }\n",
       "</style>\n",
       "<table border=\"1\" class=\"dataframe\">\n",
       "  <thead>\n",
       "    <tr style=\"text-align: right;\">\n",
       "      <th></th>\n",
       "      <th>Open</th>\n",
       "      <th>High</th>\n",
       "      <th>Low</th>\n",
       "      <th>Adj Close</th>\n",
       "      <th>Volume</th>\n",
       "    </tr>\n",
       "  </thead>\n",
       "  <tbody>\n",
       "    <tr>\n",
       "      <th>0</th>\n",
       "      <td>-2.158109</td>\n",
       "      <td>-2.008550</td>\n",
       "      <td>-2.056080</td>\n",
       "      <td>-2.130978</td>\n",
       "      <td>0.0</td>\n",
       "    </tr>\n",
       "    <tr>\n",
       "      <th>1</th>\n",
       "      <td>-1.921345</td>\n",
       "      <td>-1.995144</td>\n",
       "      <td>-2.164573</td>\n",
       "      <td>-2.050189</td>\n",
       "      <td>0.0</td>\n",
       "    </tr>\n",
       "    <tr>\n",
       "      <th>2</th>\n",
       "      <td>-2.221644</td>\n",
       "      <td>-2.149331</td>\n",
       "      <td>-2.171830</td>\n",
       "      <td>-2.197431</td>\n",
       "      <td>0.0</td>\n",
       "    </tr>\n",
       "    <tr>\n",
       "      <th>3</th>\n",
       "      <td>-2.172242</td>\n",
       "      <td>-1.956932</td>\n",
       "      <td>-2.071358</td>\n",
       "      <td>-2.148536</td>\n",
       "      <td>0.0</td>\n",
       "    </tr>\n",
       "    <tr>\n",
       "      <th>4</th>\n",
       "      <td>-1.931947</td>\n",
       "      <td>-2.005200</td>\n",
       "      <td>-2.088555</td>\n",
       "      <td>-1.909695</td>\n",
       "      <td>0.0</td>\n",
       "    </tr>\n",
       "  </tbody>\n",
       "</table>\n",
       "</div>"
      ],
      "text/plain": [
       "       Open      High       Low  Adj Close  Volume\n",
       "0 -2.158109 -2.008550 -2.056080  -2.130978     0.0\n",
       "1 -1.921345 -1.995144 -2.164573  -2.050189     0.0\n",
       "2 -2.221644 -2.149331 -2.171830  -2.197431     0.0\n",
       "3 -2.172242 -1.956932 -2.071358  -2.148536     0.0\n",
       "4 -1.931947 -2.005200 -2.088555  -1.909695     0.0"
      ]
     },
     "execution_count": 19,
     "metadata": {},
     "output_type": "execute_result"
    }
   ],
   "source": [
    "y = new_data[\"Close\"]\n",
    "x = new_data.drop([\"Close\"], axis=1)\n",
    "x.head()"
   ]
  },
  {
   "cell_type": "markdown",
   "id": "0fd36c24",
   "metadata": {},
   "source": [
    "## Split the Data into train and test"
   ]
  },
  {
   "cell_type": "code",
   "execution_count": 20,
   "id": "cdad800d",
   "metadata": {},
   "outputs": [],
   "source": [
    "\n",
    "x_train,x_test,y_train,y_test= train_test_split(x,y,test_size=0.3, random_state= 0)"
   ]
  },
  {
   "cell_type": "code",
   "execution_count": 21,
   "id": "675b4dad",
   "metadata": {},
   "outputs": [],
   "source": [
    "scaler = StandardScaler().fit(x_train)"
   ]
  },
  {
   "cell_type": "code",
   "execution_count": 22,
   "id": "0810fb74",
   "metadata": {},
   "outputs": [
    {
     "data": {
      "text/plain": [
       "LinearRegression()"
      ]
     },
     "execution_count": 22,
     "metadata": {},
     "output_type": "execute_result"
    }
   ],
   "source": [
    "#creating a linear model\n",
    "lm=  LinearRegression()\n",
    "lm.fit(x_train,y_train)"
   ]
  },
  {
   "cell_type": "code",
   "execution_count": 23,
   "id": "b424f190",
   "metadata": {},
   "outputs": [],
   "source": [
    "trace0= go.Scatter(\n",
    " x= x_train.T[0],\n",
    "y= y_train, \n",
    "mode ='markers',\n",
    "name ='Actual' )\n",
    "trace1 = go.Scatter(\n",
    "x=x_train.T[0],\n",
    "    y=lm.predict(x_train).T,\n",
    "    mode = 'lines',\n",
    "    name = 'Predicted'\n",
    ")\n",
    "stock_data= [trace0,trace1]\n",
    "Layout.xaxis.title.text='Day'\n",
    "plot2=go.Figure(data=stock_data,layout=Layout)\n"
   ]
  },
  {
   "cell_type": "code",
   "execution_count": 24,
   "id": "fb6e5d59",
   "metadata": {},
   "outputs": [
    {
     "data": {
      "application/vnd.plotly.v1+json": {
       "config": {
        "linkText": "Export to plot.ly",
        "plotlyServerURL": "https://plot.ly",
        "showLink": false
       },
       "data": [
        {
         "mode": "markers",
         "name": "Actual",
         "type": "scatter",
         "x": [
          -2.1581086265778238,
          -2.0085497004945516,
          -2.0560798986891635,
          -2.1309782652126534,
          0
         ],
         "y": [
          1.1376781432137142,
          -2.113978160960785,
          1.005474935793259,
          0.8194565636445964,
          -0.8426232570342821,
          -0.7646475722426767,
          1.1250348425391221,
          -1.9096945115124289,
          0.4436250026874203,
          2.003139401003114,
          1.4797869767076366,
          1.6167769076971945,
          1.2840089992543846,
          -1.077252795055863,
          0.06604074503155277,
          0.8298540241004607,
          -0.5211646328208395,
          0.8876670232624325,
          -2.1512048768541314,
          -0.05401230523435642,
          -2.1485361414800472,
          0.17499455367846803,
          -1.7059735514651333,
          -0.2551340757885921,
          -0.5821402133605867,
          0.40843408440241813,
          1.5465243281181893,
          1.792397819389993,
          -0.4977002740513914,
          0.7316461077981972,
          -1.5795257925626787,
          -0.8217587902415289,
          -0.547013923571084,
          1.609750666262189,
          0.09076957436519105,
          1.0266878344747996,
          1.1284756074410054,
          -2.197431110746263,
          -0.801874990619668,
          1.4344079380935084,
          0.6262721558152242,
          1.2304087945220952,
          -1.9971509156008609,
          -0.7503864517295723,
          0.08514759774007964,
          -0.891652400677032,
          1.5085895087088983,
          -2.1706657813206354,
          -0.7140645347732689,
          1.3147082371019316,
          -0.23412981475013492,
          0.5383921540877905,
          1.8341211331063194,
          0.4717250510419174,
          -0.578629200094024,
          0.281917482102574,
          -0.6396743265147856,
          -0.7797509706482596,
          1.0445990600165258,
          -0.16753225758528628,
          0.36790007550007736,
          0.39571632046126676,
          -0.2972809871439203,
          0.977513979200821,
          -0.6425524020156084,
          1.0653244350472202,
          0.05726180689785583,
          0.8335034266454374,
          -0.86418458760463,
          -0.6920100606828948,
          0.7702131624895832,
          -2.1309782652126534,
          0.7954990613551121,
          0.8143270280558761,
          0.9564401722813293,
          1.9539655457291352,
          2.2560342163243883,
          1.142598338675696,
          -0.9859959544384005,
          0.5208982038322512,
          -1.8932563941779863,
          -0.35017941071309017,
          0.29055662599056703,
          0.7500504768599595,
          1.1227890023203946,
          0.4506512441224258,
          -0.8349647803171815,
          -0.9571941249207838,
          -2.138631824544219,
          0.6322425643291328,
          0.8897035233544217,
          0.7667667777185199,
          -0.8896854464660673,
          -0.29749524465619365,
          -0.48885179003666,
          -0.2793697616021942,
          -0.06637671990117555,
          0.9634664137163348,
          -0.34673864581120684,
          -0.5624706712509893,
          -2.1625886243500583,
          0.689492874090044,
          1.6132609770451067,
          -0.31927153522244983,
          1.1046635192664052,
          -0.5443444857133548,
          1.3438592009920005,
          -2.0501891334157247,
          0.5619956046193075,
          0.3558145468410211,
          -0.7078847861326218,
          2.0382656907926164,
          1.3302296132773461,
          0.5138719623972456,
          -0.44403052343807753,
          -1.9553573535198547,
          0.43800794344783384,
          0.3320720045474452,
          1.1243330613760025,
          -0.5838978274448031,
          0.13488414241512903,
          0.3242041877036062,
          0.6613984456047268,
          -0.22197474021005417,
          -0.5732165635956509,
          0.25465900915691037,
          0.015109275673347656,
          -0.5679479362448617,
          0.029162461027003702,
          0.20871728114172156,
          0.033374552973041045,
          -0.13774976089677718,
          0.28907789791411354,
          -0.9439185889640967,
          -0.42056616466861946,
          -0.860181133301676,
          -0.10782185009338421,
          -0.3923270245520634,
          0.38040428441260044,
          -0.21755260565362347,
          0.3066406915670423,
          -0.3536201756149735,
          -0.36071666541465847,
          -0.6910237736428225,
          1.4271028106507402,
          1.1531348908936192,
          -1.0169101522818658,
          -0.46306712778192494,
          0.7913565152900992,
          -0.3888167137691456,
          0.1485832760108078,
          0.2253633336356125,
          0.42732667959868165,
          -0.8927777794791533,
          1.2725557058774333,
          0.9283401239268422,
          -1.5514257442081816,
          -0.6181073760752679,
          0.8722102755825274,
          -0.729521282453184,
          -0.47493839892870787,
          -0.6410090454436553,
          0.562836477544496,
          -0.4358838205864657,
          -0.47571604832568687,
          2.0048977175709854,
          0.4680749460132957,
          1.2444556575229362,
          -0.07979134761991157,
          0.8724940789758251,
          1.0266878344747996,
          0.5595355068883165,
          -0.6356708722118417,
          -1.623993709886939,
          0.04187460509897514,
          -2.029115326496243,
          1.5395030040687188,
          -0.3762429589755881,
          -0.593593506737538,
          -0.4994585906192628,
          0.538461699968825,
          0.6789563218721207,
          -0.6009681800613408
         ]
        },
        {
         "mode": "lines",
         "name": "Predicted",
         "type": "scatter",
         "x": [
          -2.1581086265778238,
          -2.0085497004945516,
          -2.0560798986891635,
          -2.1309782652126534,
          0
         ],
         "y": [
          1.1376781432137135,
          -2.113978160960784,
          1.0054749357932586,
          0.8194565636445961,
          -0.8426232570342818,
          -0.7646475722426763,
          1.1250348425391217,
          -1.909694511512428,
          0.4436250026874201,
          2.003139401003113,
          1.479786976707636,
          1.616776907697194,
          1.284008999254384,
          -1.0772527950558624,
          0.06604074503155276,
          0.8298540241004603,
          -0.5211646328208392,
          0.887667023262432,
          -2.1512048768541305,
          -0.05401230523435644,
          -2.1485361414800463,
          0.17499455367846786,
          -1.7059735514651326,
          -0.25513407578859204,
          -0.5821402133605865,
          0.4084340844024179,
          1.5465243281181886,
          1.7923978193899923,
          -0.49770027405139117,
          0.7316461077981967,
          -1.579525792562678,
          -0.8217587902415285,
          -0.5470139235710838,
          1.6097506662621885,
          0.09076957436519095,
          1.026687834474799,
          1.128475607441005,
          -2.1974311107462623,
          -0.8018749906196678,
          1.4344079380935075,
          0.6262721558152239,
          1.2304087945220947,
          -1.99715091560086,
          -0.750386451729572,
          0.08514759774007966,
          -0.8916524006770317,
          1.5085895087088979,
          -2.1706657813206345,
          -0.7140645347732685,
          1.3147082371019307,
          -0.2341298147501347,
          0.5383921540877902,
          1.8341211331063185,
          0.4717250510419172,
          -0.5786292000940236,
          0.28191748210257384,
          -0.6396743265147853,
          -0.7797509706482593,
          1.0445990600165254,
          -0.16753225758528617,
          0.3679000755000771,
          0.3957163204612668,
          -0.29728098714392015,
          0.9775139792008205,
          -0.642552402015608,
          1.0653244350472197,
          0.05726180689785589,
          0.8335034266454371,
          -0.8641845876046297,
          -0.6920100606828945,
          0.7702131624895829,
          -2.1309782652126525,
          0.7954990613551116,
          0.8143270280558756,
          0.9564401722813289,
          1.9539655457291345,
          2.256034216324388,
          1.1425983386756953,
          -0.9859959544384,
          0.5208982038322509,
          -1.8932563941779854,
          -0.3501794107130899,
          0.29055662599056675,
          0.7500504768599591,
          1.122789002320394,
          0.45065124412242563,
          -0.8349647803171811,
          -0.9571941249207834,
          -2.138631824544218,
          0.6322425643291325,
          0.8897035233544212,
          0.7667667777185195,
          -0.8896854464660668,
          -0.2974952446561935,
          -0.4888517900366598,
          -0.27936976160219407,
          -0.06637671990117554,
          0.9634664137163345,
          -0.3467386458112066,
          -0.562470671250989,
          -2.1625886243500574,
          0.6894928740900437,
          1.613260977045106,
          -0.3192715352224498,
          1.1046635192664045,
          -0.5443444857133545,
          1.3438592009919998,
          -2.050189133415724,
          0.5619956046193072,
          0.355814546841021,
          -0.7078847861326215,
          2.0382656907926155,
          1.3302296132773455,
          0.5138719623972454,
          -0.44403052343807736,
          -1.9553573535198538,
          0.43800794344783367,
          0.3320720045474449,
          1.1243330613760019,
          -0.5838978274448029,
          0.13488414241512894,
          0.32420418770360604,
          0.6613984456047269,
          -0.22197474021005384,
          -0.5732165635956505,
          0.2546590091569102,
          0.015109275673347777,
          -0.5679479362448614,
          0.029162461027003723,
          0.20871728114172147,
          0.03337455297304102,
          -0.13774976089677712,
          0.2890778979141134,
          -0.9439185889640964,
          -0.4205661646686192,
          -0.8601811333016757,
          -0.10782185009338399,
          -0.39232702455206314,
          0.3804042844126003,
          -0.21755260565362336,
          0.3066406915670421,
          -0.3536201756149733,
          -0.3607166654146582,
          -0.6910237736428221,
          1.4271028106507395,
          1.1531348908936188,
          -1.0169101522818653,
          -0.4630671277819247,
          0.7913565152900988,
          -0.3888167137691455,
          0.14858327601080773,
          0.22536333363561242,
          0.4273266795986814,
          -0.8927777794791529,
          1.2725557058774326,
          0.9283401239268418,
          -1.5514257442081811,
          -0.6181073760752676,
          0.872210275582527,
          -0.7295212824531836,
          -0.4749383989287077,
          -0.641009045443655,
          0.5628364775444956,
          -0.43588382058646546,
          -0.4757160483256867,
          2.0048977175709846,
          0.46807494601329547,
          1.2444556575229355,
          -0.07979134761991147,
          0.8724940789758246,
          1.0266878344747992,
          0.5595355068883167,
          -0.6356708722118414,
          -1.6239937098869384,
          0.04187460509897506,
          -2.029115326496242,
          1.5395030040687183,
          -0.376242958975588,
          -0.5935935067375377,
          -0.49945859061926245,
          0.5384616999688248,
          0.6789563218721201,
          -0.6009681800613406
         ]
        }
       ],
       "layout": {
        "template": {
         "data": {
          "bar": [
           {
            "error_x": {
             "color": "#2a3f5f"
            },
            "error_y": {
             "color": "#2a3f5f"
            },
            "marker": {
             "line": {
              "color": "#E5ECF6",
              "width": 0.5
             },
             "pattern": {
              "fillmode": "overlay",
              "size": 10,
              "solidity": 0.2
             }
            },
            "type": "bar"
           }
          ],
          "barpolar": [
           {
            "marker": {
             "line": {
              "color": "#E5ECF6",
              "width": 0.5
             },
             "pattern": {
              "fillmode": "overlay",
              "size": 10,
              "solidity": 0.2
             }
            },
            "type": "barpolar"
           }
          ],
          "carpet": [
           {
            "aaxis": {
             "endlinecolor": "#2a3f5f",
             "gridcolor": "white",
             "linecolor": "white",
             "minorgridcolor": "white",
             "startlinecolor": "#2a3f5f"
            },
            "baxis": {
             "endlinecolor": "#2a3f5f",
             "gridcolor": "white",
             "linecolor": "white",
             "minorgridcolor": "white",
             "startlinecolor": "#2a3f5f"
            },
            "type": "carpet"
           }
          ],
          "choropleth": [
           {
            "colorbar": {
             "outlinewidth": 0,
             "ticks": ""
            },
            "type": "choropleth"
           }
          ],
          "contour": [
           {
            "colorbar": {
             "outlinewidth": 0,
             "ticks": ""
            },
            "colorscale": [
             [
              0,
              "#0d0887"
             ],
             [
              0.1111111111111111,
              "#46039f"
             ],
             [
              0.2222222222222222,
              "#7201a8"
             ],
             [
              0.3333333333333333,
              "#9c179e"
             ],
             [
              0.4444444444444444,
              "#bd3786"
             ],
             [
              0.5555555555555556,
              "#d8576b"
             ],
             [
              0.6666666666666666,
              "#ed7953"
             ],
             [
              0.7777777777777778,
              "#fb9f3a"
             ],
             [
              0.8888888888888888,
              "#fdca26"
             ],
             [
              1,
              "#f0f921"
             ]
            ],
            "type": "contour"
           }
          ],
          "contourcarpet": [
           {
            "colorbar": {
             "outlinewidth": 0,
             "ticks": ""
            },
            "type": "contourcarpet"
           }
          ],
          "heatmap": [
           {
            "colorbar": {
             "outlinewidth": 0,
             "ticks": ""
            },
            "colorscale": [
             [
              0,
              "#0d0887"
             ],
             [
              0.1111111111111111,
              "#46039f"
             ],
             [
              0.2222222222222222,
              "#7201a8"
             ],
             [
              0.3333333333333333,
              "#9c179e"
             ],
             [
              0.4444444444444444,
              "#bd3786"
             ],
             [
              0.5555555555555556,
              "#d8576b"
             ],
             [
              0.6666666666666666,
              "#ed7953"
             ],
             [
              0.7777777777777778,
              "#fb9f3a"
             ],
             [
              0.8888888888888888,
              "#fdca26"
             ],
             [
              1,
              "#f0f921"
             ]
            ],
            "type": "heatmap"
           }
          ],
          "heatmapgl": [
           {
            "colorbar": {
             "outlinewidth": 0,
             "ticks": ""
            },
            "colorscale": [
             [
              0,
              "#0d0887"
             ],
             [
              0.1111111111111111,
              "#46039f"
             ],
             [
              0.2222222222222222,
              "#7201a8"
             ],
             [
              0.3333333333333333,
              "#9c179e"
             ],
             [
              0.4444444444444444,
              "#bd3786"
             ],
             [
              0.5555555555555556,
              "#d8576b"
             ],
             [
              0.6666666666666666,
              "#ed7953"
             ],
             [
              0.7777777777777778,
              "#fb9f3a"
             ],
             [
              0.8888888888888888,
              "#fdca26"
             ],
             [
              1,
              "#f0f921"
             ]
            ],
            "type": "heatmapgl"
           }
          ],
          "histogram": [
           {
            "marker": {
             "pattern": {
              "fillmode": "overlay",
              "size": 10,
              "solidity": 0.2
             }
            },
            "type": "histogram"
           }
          ],
          "histogram2d": [
           {
            "colorbar": {
             "outlinewidth": 0,
             "ticks": ""
            },
            "colorscale": [
             [
              0,
              "#0d0887"
             ],
             [
              0.1111111111111111,
              "#46039f"
             ],
             [
              0.2222222222222222,
              "#7201a8"
             ],
             [
              0.3333333333333333,
              "#9c179e"
             ],
             [
              0.4444444444444444,
              "#bd3786"
             ],
             [
              0.5555555555555556,
              "#d8576b"
             ],
             [
              0.6666666666666666,
              "#ed7953"
             ],
             [
              0.7777777777777778,
              "#fb9f3a"
             ],
             [
              0.8888888888888888,
              "#fdca26"
             ],
             [
              1,
              "#f0f921"
             ]
            ],
            "type": "histogram2d"
           }
          ],
          "histogram2dcontour": [
           {
            "colorbar": {
             "outlinewidth": 0,
             "ticks": ""
            },
            "colorscale": [
             [
              0,
              "#0d0887"
             ],
             [
              0.1111111111111111,
              "#46039f"
             ],
             [
              0.2222222222222222,
              "#7201a8"
             ],
             [
              0.3333333333333333,
              "#9c179e"
             ],
             [
              0.4444444444444444,
              "#bd3786"
             ],
             [
              0.5555555555555556,
              "#d8576b"
             ],
             [
              0.6666666666666666,
              "#ed7953"
             ],
             [
              0.7777777777777778,
              "#fb9f3a"
             ],
             [
              0.8888888888888888,
              "#fdca26"
             ],
             [
              1,
              "#f0f921"
             ]
            ],
            "type": "histogram2dcontour"
           }
          ],
          "mesh3d": [
           {
            "colorbar": {
             "outlinewidth": 0,
             "ticks": ""
            },
            "type": "mesh3d"
           }
          ],
          "parcoords": [
           {
            "line": {
             "colorbar": {
              "outlinewidth": 0,
              "ticks": ""
             }
            },
            "type": "parcoords"
           }
          ],
          "pie": [
           {
            "automargin": true,
            "type": "pie"
           }
          ],
          "scatter": [
           {
            "fillpattern": {
             "fillmode": "overlay",
             "size": 10,
             "solidity": 0.2
            },
            "type": "scatter"
           }
          ],
          "scatter3d": [
           {
            "line": {
             "colorbar": {
              "outlinewidth": 0,
              "ticks": ""
             }
            },
            "marker": {
             "colorbar": {
              "outlinewidth": 0,
              "ticks": ""
             }
            },
            "type": "scatter3d"
           }
          ],
          "scattercarpet": [
           {
            "marker": {
             "colorbar": {
              "outlinewidth": 0,
              "ticks": ""
             }
            },
            "type": "scattercarpet"
           }
          ],
          "scattergeo": [
           {
            "marker": {
             "colorbar": {
              "outlinewidth": 0,
              "ticks": ""
             }
            },
            "type": "scattergeo"
           }
          ],
          "scattergl": [
           {
            "marker": {
             "colorbar": {
              "outlinewidth": 0,
              "ticks": ""
             }
            },
            "type": "scattergl"
           }
          ],
          "scattermapbox": [
           {
            "marker": {
             "colorbar": {
              "outlinewidth": 0,
              "ticks": ""
             }
            },
            "type": "scattermapbox"
           }
          ],
          "scatterpolar": [
           {
            "marker": {
             "colorbar": {
              "outlinewidth": 0,
              "ticks": ""
             }
            },
            "type": "scatterpolar"
           }
          ],
          "scatterpolargl": [
           {
            "marker": {
             "colorbar": {
              "outlinewidth": 0,
              "ticks": ""
             }
            },
            "type": "scatterpolargl"
           }
          ],
          "scatterternary": [
           {
            "marker": {
             "colorbar": {
              "outlinewidth": 0,
              "ticks": ""
             }
            },
            "type": "scatterternary"
           }
          ],
          "surface": [
           {
            "colorbar": {
             "outlinewidth": 0,
             "ticks": ""
            },
            "colorscale": [
             [
              0,
              "#0d0887"
             ],
             [
              0.1111111111111111,
              "#46039f"
             ],
             [
              0.2222222222222222,
              "#7201a8"
             ],
             [
              0.3333333333333333,
              "#9c179e"
             ],
             [
              0.4444444444444444,
              "#bd3786"
             ],
             [
              0.5555555555555556,
              "#d8576b"
             ],
             [
              0.6666666666666666,
              "#ed7953"
             ],
             [
              0.7777777777777778,
              "#fb9f3a"
             ],
             [
              0.8888888888888888,
              "#fdca26"
             ],
             [
              1,
              "#f0f921"
             ]
            ],
            "type": "surface"
           }
          ],
          "table": [
           {
            "cells": {
             "fill": {
              "color": "#EBF0F8"
             },
             "line": {
              "color": "white"
             }
            },
            "header": {
             "fill": {
              "color": "#C8D4E3"
             },
             "line": {
              "color": "white"
             }
            },
            "type": "table"
           }
          ]
         },
         "layout": {
          "annotationdefaults": {
           "arrowcolor": "#2a3f5f",
           "arrowhead": 0,
           "arrowwidth": 1
          },
          "autotypenumbers": "strict",
          "coloraxis": {
           "colorbar": {
            "outlinewidth": 0,
            "ticks": ""
           }
          },
          "colorscale": {
           "diverging": [
            [
             0,
             "#8e0152"
            ],
            [
             0.1,
             "#c51b7d"
            ],
            [
             0.2,
             "#de77ae"
            ],
            [
             0.3,
             "#f1b6da"
            ],
            [
             0.4,
             "#fde0ef"
            ],
            [
             0.5,
             "#f7f7f7"
            ],
            [
             0.6,
             "#e6f5d0"
            ],
            [
             0.7,
             "#b8e186"
            ],
            [
             0.8,
             "#7fbc41"
            ],
            [
             0.9,
             "#4d9221"
            ],
            [
             1,
             "#276419"
            ]
           ],
           "sequential": [
            [
             0,
             "#0d0887"
            ],
            [
             0.1111111111111111,
             "#46039f"
            ],
            [
             0.2222222222222222,
             "#7201a8"
            ],
            [
             0.3333333333333333,
             "#9c179e"
            ],
            [
             0.4444444444444444,
             "#bd3786"
            ],
            [
             0.5555555555555556,
             "#d8576b"
            ],
            [
             0.6666666666666666,
             "#ed7953"
            ],
            [
             0.7777777777777778,
             "#fb9f3a"
            ],
            [
             0.8888888888888888,
             "#fdca26"
            ],
            [
             1,
             "#f0f921"
            ]
           ],
           "sequentialminus": [
            [
             0,
             "#0d0887"
            ],
            [
             0.1111111111111111,
             "#46039f"
            ],
            [
             0.2222222222222222,
             "#7201a8"
            ],
            [
             0.3333333333333333,
             "#9c179e"
            ],
            [
             0.4444444444444444,
             "#bd3786"
            ],
            [
             0.5555555555555556,
             "#d8576b"
            ],
            [
             0.6666666666666666,
             "#ed7953"
            ],
            [
             0.7777777777777778,
             "#fb9f3a"
            ],
            [
             0.8888888888888888,
             "#fdca26"
            ],
            [
             1,
             "#f0f921"
            ]
           ]
          },
          "colorway": [
           "#636efa",
           "#EF553B",
           "#00cc96",
           "#ab63fa",
           "#FFA15A",
           "#19d3f3",
           "#FF6692",
           "#B6E880",
           "#FF97FF",
           "#FECB52"
          ],
          "font": {
           "color": "#2a3f5f"
          },
          "geo": {
           "bgcolor": "white",
           "lakecolor": "white",
           "landcolor": "#E5ECF6",
           "showlakes": true,
           "showland": true,
           "subunitcolor": "white"
          },
          "hoverlabel": {
           "align": "left"
          },
          "hovermode": "closest",
          "mapbox": {
           "style": "light"
          },
          "paper_bgcolor": "white",
          "plot_bgcolor": "#E5ECF6",
          "polar": {
           "angularaxis": {
            "gridcolor": "white",
            "linecolor": "white",
            "ticks": ""
           },
           "bgcolor": "#E5ECF6",
           "radialaxis": {
            "gridcolor": "white",
            "linecolor": "white",
            "ticks": ""
           }
          },
          "scene": {
           "xaxis": {
            "backgroundcolor": "#E5ECF6",
            "gridcolor": "white",
            "gridwidth": 2,
            "linecolor": "white",
            "showbackground": true,
            "ticks": "",
            "zerolinecolor": "white"
           },
           "yaxis": {
            "backgroundcolor": "#E5ECF6",
            "gridcolor": "white",
            "gridwidth": 2,
            "linecolor": "white",
            "showbackground": true,
            "ticks": "",
            "zerolinecolor": "white"
           },
           "zaxis": {
            "backgroundcolor": "#E5ECF6",
            "gridcolor": "white",
            "gridwidth": 2,
            "linecolor": "white",
            "showbackground": true,
            "ticks": "",
            "zerolinecolor": "white"
           }
          },
          "shapedefaults": {
           "line": {
            "color": "#2a3f5f"
           }
          },
          "ternary": {
           "aaxis": {
            "gridcolor": "white",
            "linecolor": "white",
            "ticks": ""
           },
           "baxis": {
            "gridcolor": "white",
            "linecolor": "white",
            "ticks": ""
           },
           "bgcolor": "#E5ECF6",
           "caxis": {
            "gridcolor": "white",
            "linecolor": "white",
            "ticks": ""
           }
          },
          "title": {
           "x": 0.05
          },
          "xaxis": {
           "automargin": true,
           "gridcolor": "white",
           "linecolor": "white",
           "ticks": "",
           "title": {
            "standoff": 15
           },
           "zerolinecolor": "white",
           "zerolinewidth": 2
          },
          "yaxis": {
           "automargin": true,
           "gridcolor": "white",
           "linecolor": "white",
           "ticks": "",
           "title": {
            "standoff": 15
           },
           "zerolinecolor": "white",
           "zerolinewidth": 2
          }
         }
        },
        "title": {
         "text": "Stock Prices "
        },
        "xaxis": {
         "title": {
          "font": {
           "color": "#7f7f7f",
           "family": "Courier New, monospace",
           "size": 18
          },
          "text": "Day"
         }
        }
       }
      },
      "text/html": [
       "<div>                            <div id=\"52df9be4-96f6-4eb5-bc3a-2774fd6d3b47\" class=\"plotly-graph-div\" style=\"height:525px; width:100%;\"></div>            <script type=\"text/javascript\">                require([\"plotly\"], function(Plotly) {                    window.PLOTLYENV=window.PLOTLYENV || {};                                    if (document.getElementById(\"52df9be4-96f6-4eb5-bc3a-2774fd6d3b47\")) {                    Plotly.newPlot(                        \"52df9be4-96f6-4eb5-bc3a-2774fd6d3b47\",                        [{\"mode\":\"markers\",\"name\":\"Actual\",\"x\":[-2.1581086265778238,-2.0085497004945516,-2.0560798986891635,-2.1309782652126534,0.0],\"y\":[1.1376781432137142,-2.113978160960785,1.005474935793259,0.8194565636445964,-0.8426232570342821,-0.7646475722426767,1.1250348425391221,-1.9096945115124289,0.4436250026874203,2.003139401003114,1.4797869767076366,1.6167769076971945,1.2840089992543846,-1.077252795055863,0.06604074503155277,0.8298540241004607,-0.5211646328208395,0.8876670232624325,-2.1512048768541314,-0.05401230523435642,-2.1485361414800472,0.17499455367846803,-1.7059735514651333,-0.2551340757885921,-0.5821402133605867,0.40843408440241813,1.5465243281181893,1.792397819389993,-0.4977002740513914,0.7316461077981972,-1.5795257925626787,-0.8217587902415289,-0.547013923571084,1.609750666262189,0.09076957436519105,1.0266878344747996,1.1284756074410054,-2.197431110746263,-0.801874990619668,1.4344079380935084,0.6262721558152242,1.2304087945220952,-1.9971509156008609,-0.7503864517295723,0.08514759774007964,-0.891652400677032,1.5085895087088983,-2.1706657813206354,-0.7140645347732689,1.3147082371019316,-0.23412981475013492,0.5383921540877905,1.8341211331063194,0.4717250510419174,-0.578629200094024,0.281917482102574,-0.6396743265147856,-0.7797509706482596,1.0445990600165258,-0.16753225758528628,0.36790007550007736,0.39571632046126676,-0.2972809871439203,0.977513979200821,-0.6425524020156084,1.0653244350472202,0.05726180689785583,0.8335034266454374,-0.86418458760463,-0.6920100606828948,0.7702131624895832,-2.1309782652126534,0.7954990613551121,0.8143270280558761,0.9564401722813293,1.9539655457291352,2.2560342163243883,1.142598338675696,-0.9859959544384005,0.5208982038322512,-1.8932563941779863,-0.35017941071309017,0.29055662599056703,0.7500504768599595,1.1227890023203946,0.4506512441224258,-0.8349647803171815,-0.9571941249207838,-2.138631824544219,0.6322425643291328,0.8897035233544217,0.7667667777185199,-0.8896854464660673,-0.29749524465619365,-0.48885179003666,-0.2793697616021942,-0.06637671990117555,0.9634664137163348,-0.34673864581120684,-0.5624706712509893,-2.1625886243500583,0.689492874090044,1.6132609770451067,-0.31927153522244983,1.1046635192664052,-0.5443444857133548,1.3438592009920005,-2.0501891334157247,0.5619956046193075,0.3558145468410211,-0.7078847861326218,2.0382656907926164,1.3302296132773461,0.5138719623972456,-0.44403052343807753,-1.9553573535198547,0.43800794344783384,0.3320720045474452,1.1243330613760025,-0.5838978274448031,0.13488414241512903,0.3242041877036062,0.6613984456047268,-0.22197474021005417,-0.5732165635956509,0.25465900915691037,0.015109275673347656,-0.5679479362448617,0.029162461027003702,0.20871728114172156,0.033374552973041045,-0.13774976089677718,0.28907789791411354,-0.9439185889640967,-0.42056616466861946,-0.860181133301676,-0.10782185009338421,-0.3923270245520634,0.38040428441260044,-0.21755260565362347,0.3066406915670423,-0.3536201756149735,-0.36071666541465847,-0.6910237736428225,1.4271028106507402,1.1531348908936192,-1.0169101522818658,-0.46306712778192494,0.7913565152900992,-0.3888167137691456,0.1485832760108078,0.2253633336356125,0.42732667959868165,-0.8927777794791533,1.2725557058774333,0.9283401239268422,-1.5514257442081816,-0.6181073760752679,0.8722102755825274,-0.729521282453184,-0.47493839892870787,-0.6410090454436553,0.562836477544496,-0.4358838205864657,-0.47571604832568687,2.0048977175709854,0.4680749460132957,1.2444556575229362,-0.07979134761991157,0.8724940789758251,1.0266878344747996,0.5595355068883165,-0.6356708722118417,-1.623993709886939,0.04187460509897514,-2.029115326496243,1.5395030040687188,-0.3762429589755881,-0.593593506737538,-0.4994585906192628,0.538461699968825,0.6789563218721207,-0.6009681800613408],\"type\":\"scatter\"},{\"mode\":\"lines\",\"name\":\"Predicted\",\"x\":[-2.1581086265778238,-2.0085497004945516,-2.0560798986891635,-2.1309782652126534,0.0],\"y\":[1.1376781432137135,-2.113978160960784,1.0054749357932586,0.8194565636445961,-0.8426232570342818,-0.7646475722426763,1.1250348425391217,-1.909694511512428,0.4436250026874201,2.003139401003113,1.479786976707636,1.616776907697194,1.284008999254384,-1.0772527950558624,0.06604074503155276,0.8298540241004603,-0.5211646328208392,0.887667023262432,-2.1512048768541305,-0.05401230523435644,-2.1485361414800463,0.17499455367846786,-1.7059735514651326,-0.25513407578859204,-0.5821402133605865,0.4084340844024179,1.5465243281181886,1.7923978193899923,-0.49770027405139117,0.7316461077981967,-1.579525792562678,-0.8217587902415285,-0.5470139235710838,1.6097506662621885,0.09076957436519095,1.026687834474799,1.128475607441005,-2.1974311107462623,-0.8018749906196678,1.4344079380935075,0.6262721558152239,1.2304087945220947,-1.99715091560086,-0.750386451729572,0.08514759774007966,-0.8916524006770317,1.5085895087088979,-2.1706657813206345,-0.7140645347732685,1.3147082371019307,-0.2341298147501347,0.5383921540877902,1.8341211331063185,0.4717250510419172,-0.5786292000940236,0.28191748210257384,-0.6396743265147853,-0.7797509706482593,1.0445990600165254,-0.16753225758528617,0.3679000755000771,0.3957163204612668,-0.29728098714392015,0.9775139792008205,-0.642552402015608,1.0653244350472197,0.05726180689785589,0.8335034266454371,-0.8641845876046297,-0.6920100606828945,0.7702131624895829,-2.1309782652126525,0.7954990613551116,0.8143270280558756,0.9564401722813289,1.9539655457291345,2.256034216324388,1.1425983386756953,-0.9859959544384,0.5208982038322509,-1.8932563941779854,-0.3501794107130899,0.29055662599056675,0.7500504768599591,1.122789002320394,0.45065124412242563,-0.8349647803171811,-0.9571941249207834,-2.138631824544218,0.6322425643291325,0.8897035233544212,0.7667667777185195,-0.8896854464660668,-0.2974952446561935,-0.4888517900366598,-0.27936976160219407,-0.06637671990117554,0.9634664137163345,-0.3467386458112066,-0.562470671250989,-2.1625886243500574,0.6894928740900437,1.613260977045106,-0.3192715352224498,1.1046635192664045,-0.5443444857133545,1.3438592009919998,-2.050189133415724,0.5619956046193072,0.355814546841021,-0.7078847861326215,2.0382656907926155,1.3302296132773455,0.5138719623972454,-0.44403052343807736,-1.9553573535198538,0.43800794344783367,0.3320720045474449,1.1243330613760019,-0.5838978274448029,0.13488414241512894,0.32420418770360604,0.6613984456047269,-0.22197474021005384,-0.5732165635956505,0.2546590091569102,0.015109275673347777,-0.5679479362448614,0.029162461027003723,0.20871728114172147,0.03337455297304102,-0.13774976089677712,0.2890778979141134,-0.9439185889640964,-0.4205661646686192,-0.8601811333016757,-0.10782185009338399,-0.39232702455206314,0.3804042844126003,-0.21755260565362336,0.3066406915670421,-0.3536201756149733,-0.3607166654146582,-0.6910237736428221,1.4271028106507395,1.1531348908936188,-1.0169101522818653,-0.4630671277819247,0.7913565152900988,-0.3888167137691455,0.14858327601080773,0.22536333363561242,0.4273266795986814,-0.8927777794791529,1.2725557058774326,0.9283401239268418,-1.5514257442081811,-0.6181073760752676,0.872210275582527,-0.7295212824531836,-0.4749383989287077,-0.641009045443655,0.5628364775444956,-0.43588382058646546,-0.4757160483256867,2.0048977175709846,0.46807494601329547,1.2444556575229355,-0.07979134761991147,0.8724940789758246,1.0266878344747992,0.5595355068883167,-0.6356708722118414,-1.6239937098869384,0.04187460509897506,-2.029115326496242,1.5395030040687183,-0.376242958975588,-0.5935935067375377,-0.49945859061926245,0.5384616999688248,0.6789563218721201,-0.6009681800613406],\"type\":\"scatter\"}],                        {\"template\":{\"data\":{\"barpolar\":[{\"marker\":{\"line\":{\"color\":\"#E5ECF6\",\"width\":0.5},\"pattern\":{\"fillmode\":\"overlay\",\"size\":10,\"solidity\":0.2}},\"type\":\"barpolar\"}],\"bar\":[{\"error_x\":{\"color\":\"#2a3f5f\"},\"error_y\":{\"color\":\"#2a3f5f\"},\"marker\":{\"line\":{\"color\":\"#E5ECF6\",\"width\":0.5},\"pattern\":{\"fillmode\":\"overlay\",\"size\":10,\"solidity\":0.2}},\"type\":\"bar\"}],\"carpet\":[{\"aaxis\":{\"endlinecolor\":\"#2a3f5f\",\"gridcolor\":\"white\",\"linecolor\":\"white\",\"minorgridcolor\":\"white\",\"startlinecolor\":\"#2a3f5f\"},\"baxis\":{\"endlinecolor\":\"#2a3f5f\",\"gridcolor\":\"white\",\"linecolor\":\"white\",\"minorgridcolor\":\"white\",\"startlinecolor\":\"#2a3f5f\"},\"type\":\"carpet\"}],\"choropleth\":[{\"colorbar\":{\"outlinewidth\":0,\"ticks\":\"\"},\"type\":\"choropleth\"}],\"contourcarpet\":[{\"colorbar\":{\"outlinewidth\":0,\"ticks\":\"\"},\"type\":\"contourcarpet\"}],\"contour\":[{\"colorbar\":{\"outlinewidth\":0,\"ticks\":\"\"},\"colorscale\":[[0.0,\"#0d0887\"],[0.1111111111111111,\"#46039f\"],[0.2222222222222222,\"#7201a8\"],[0.3333333333333333,\"#9c179e\"],[0.4444444444444444,\"#bd3786\"],[0.5555555555555556,\"#d8576b\"],[0.6666666666666666,\"#ed7953\"],[0.7777777777777778,\"#fb9f3a\"],[0.8888888888888888,\"#fdca26\"],[1.0,\"#f0f921\"]],\"type\":\"contour\"}],\"heatmapgl\":[{\"colorbar\":{\"outlinewidth\":0,\"ticks\":\"\"},\"colorscale\":[[0.0,\"#0d0887\"],[0.1111111111111111,\"#46039f\"],[0.2222222222222222,\"#7201a8\"],[0.3333333333333333,\"#9c179e\"],[0.4444444444444444,\"#bd3786\"],[0.5555555555555556,\"#d8576b\"],[0.6666666666666666,\"#ed7953\"],[0.7777777777777778,\"#fb9f3a\"],[0.8888888888888888,\"#fdca26\"],[1.0,\"#f0f921\"]],\"type\":\"heatmapgl\"}],\"heatmap\":[{\"colorbar\":{\"outlinewidth\":0,\"ticks\":\"\"},\"colorscale\":[[0.0,\"#0d0887\"],[0.1111111111111111,\"#46039f\"],[0.2222222222222222,\"#7201a8\"],[0.3333333333333333,\"#9c179e\"],[0.4444444444444444,\"#bd3786\"],[0.5555555555555556,\"#d8576b\"],[0.6666666666666666,\"#ed7953\"],[0.7777777777777778,\"#fb9f3a\"],[0.8888888888888888,\"#fdca26\"],[1.0,\"#f0f921\"]],\"type\":\"heatmap\"}],\"histogram2dcontour\":[{\"colorbar\":{\"outlinewidth\":0,\"ticks\":\"\"},\"colorscale\":[[0.0,\"#0d0887\"],[0.1111111111111111,\"#46039f\"],[0.2222222222222222,\"#7201a8\"],[0.3333333333333333,\"#9c179e\"],[0.4444444444444444,\"#bd3786\"],[0.5555555555555556,\"#d8576b\"],[0.6666666666666666,\"#ed7953\"],[0.7777777777777778,\"#fb9f3a\"],[0.8888888888888888,\"#fdca26\"],[1.0,\"#f0f921\"]],\"type\":\"histogram2dcontour\"}],\"histogram2d\":[{\"colorbar\":{\"outlinewidth\":0,\"ticks\":\"\"},\"colorscale\":[[0.0,\"#0d0887\"],[0.1111111111111111,\"#46039f\"],[0.2222222222222222,\"#7201a8\"],[0.3333333333333333,\"#9c179e\"],[0.4444444444444444,\"#bd3786\"],[0.5555555555555556,\"#d8576b\"],[0.6666666666666666,\"#ed7953\"],[0.7777777777777778,\"#fb9f3a\"],[0.8888888888888888,\"#fdca26\"],[1.0,\"#f0f921\"]],\"type\":\"histogram2d\"}],\"histogram\":[{\"marker\":{\"pattern\":{\"fillmode\":\"overlay\",\"size\":10,\"solidity\":0.2}},\"type\":\"histogram\"}],\"mesh3d\":[{\"colorbar\":{\"outlinewidth\":0,\"ticks\":\"\"},\"type\":\"mesh3d\"}],\"parcoords\":[{\"line\":{\"colorbar\":{\"outlinewidth\":0,\"ticks\":\"\"}},\"type\":\"parcoords\"}],\"pie\":[{\"automargin\":true,\"type\":\"pie\"}],\"scatter3d\":[{\"line\":{\"colorbar\":{\"outlinewidth\":0,\"ticks\":\"\"}},\"marker\":{\"colorbar\":{\"outlinewidth\":0,\"ticks\":\"\"}},\"type\":\"scatter3d\"}],\"scattercarpet\":[{\"marker\":{\"colorbar\":{\"outlinewidth\":0,\"ticks\":\"\"}},\"type\":\"scattercarpet\"}],\"scattergeo\":[{\"marker\":{\"colorbar\":{\"outlinewidth\":0,\"ticks\":\"\"}},\"type\":\"scattergeo\"}],\"scattergl\":[{\"marker\":{\"colorbar\":{\"outlinewidth\":0,\"ticks\":\"\"}},\"type\":\"scattergl\"}],\"scattermapbox\":[{\"marker\":{\"colorbar\":{\"outlinewidth\":0,\"ticks\":\"\"}},\"type\":\"scattermapbox\"}],\"scatterpolargl\":[{\"marker\":{\"colorbar\":{\"outlinewidth\":0,\"ticks\":\"\"}},\"type\":\"scatterpolargl\"}],\"scatterpolar\":[{\"marker\":{\"colorbar\":{\"outlinewidth\":0,\"ticks\":\"\"}},\"type\":\"scatterpolar\"}],\"scatter\":[{\"fillpattern\":{\"fillmode\":\"overlay\",\"size\":10,\"solidity\":0.2},\"type\":\"scatter\"}],\"scatterternary\":[{\"marker\":{\"colorbar\":{\"outlinewidth\":0,\"ticks\":\"\"}},\"type\":\"scatterternary\"}],\"surface\":[{\"colorbar\":{\"outlinewidth\":0,\"ticks\":\"\"},\"colorscale\":[[0.0,\"#0d0887\"],[0.1111111111111111,\"#46039f\"],[0.2222222222222222,\"#7201a8\"],[0.3333333333333333,\"#9c179e\"],[0.4444444444444444,\"#bd3786\"],[0.5555555555555556,\"#d8576b\"],[0.6666666666666666,\"#ed7953\"],[0.7777777777777778,\"#fb9f3a\"],[0.8888888888888888,\"#fdca26\"],[1.0,\"#f0f921\"]],\"type\":\"surface\"}],\"table\":[{\"cells\":{\"fill\":{\"color\":\"#EBF0F8\"},\"line\":{\"color\":\"white\"}},\"header\":{\"fill\":{\"color\":\"#C8D4E3\"},\"line\":{\"color\":\"white\"}},\"type\":\"table\"}]},\"layout\":{\"annotationdefaults\":{\"arrowcolor\":\"#2a3f5f\",\"arrowhead\":0,\"arrowwidth\":1},\"autotypenumbers\":\"strict\",\"coloraxis\":{\"colorbar\":{\"outlinewidth\":0,\"ticks\":\"\"}},\"colorscale\":{\"diverging\":[[0,\"#8e0152\"],[0.1,\"#c51b7d\"],[0.2,\"#de77ae\"],[0.3,\"#f1b6da\"],[0.4,\"#fde0ef\"],[0.5,\"#f7f7f7\"],[0.6,\"#e6f5d0\"],[0.7,\"#b8e186\"],[0.8,\"#7fbc41\"],[0.9,\"#4d9221\"],[1,\"#276419\"]],\"sequential\":[[0.0,\"#0d0887\"],[0.1111111111111111,\"#46039f\"],[0.2222222222222222,\"#7201a8\"],[0.3333333333333333,\"#9c179e\"],[0.4444444444444444,\"#bd3786\"],[0.5555555555555556,\"#d8576b\"],[0.6666666666666666,\"#ed7953\"],[0.7777777777777778,\"#fb9f3a\"],[0.8888888888888888,\"#fdca26\"],[1.0,\"#f0f921\"]],\"sequentialminus\":[[0.0,\"#0d0887\"],[0.1111111111111111,\"#46039f\"],[0.2222222222222222,\"#7201a8\"],[0.3333333333333333,\"#9c179e\"],[0.4444444444444444,\"#bd3786\"],[0.5555555555555556,\"#d8576b\"],[0.6666666666666666,\"#ed7953\"],[0.7777777777777778,\"#fb9f3a\"],[0.8888888888888888,\"#fdca26\"],[1.0,\"#f0f921\"]]},\"colorway\":[\"#636efa\",\"#EF553B\",\"#00cc96\",\"#ab63fa\",\"#FFA15A\",\"#19d3f3\",\"#FF6692\",\"#B6E880\",\"#FF97FF\",\"#FECB52\"],\"font\":{\"color\":\"#2a3f5f\"},\"geo\":{\"bgcolor\":\"white\",\"lakecolor\":\"white\",\"landcolor\":\"#E5ECF6\",\"showlakes\":true,\"showland\":true,\"subunitcolor\":\"white\"},\"hoverlabel\":{\"align\":\"left\"},\"hovermode\":\"closest\",\"mapbox\":{\"style\":\"light\"},\"paper_bgcolor\":\"white\",\"plot_bgcolor\":\"#E5ECF6\",\"polar\":{\"angularaxis\":{\"gridcolor\":\"white\",\"linecolor\":\"white\",\"ticks\":\"\"},\"bgcolor\":\"#E5ECF6\",\"radialaxis\":{\"gridcolor\":\"white\",\"linecolor\":\"white\",\"ticks\":\"\"}},\"scene\":{\"xaxis\":{\"backgroundcolor\":\"#E5ECF6\",\"gridcolor\":\"white\",\"gridwidth\":2,\"linecolor\":\"white\",\"showbackground\":true,\"ticks\":\"\",\"zerolinecolor\":\"white\"},\"yaxis\":{\"backgroundcolor\":\"#E5ECF6\",\"gridcolor\":\"white\",\"gridwidth\":2,\"linecolor\":\"white\",\"showbackground\":true,\"ticks\":\"\",\"zerolinecolor\":\"white\"},\"zaxis\":{\"backgroundcolor\":\"#E5ECF6\",\"gridcolor\":\"white\",\"gridwidth\":2,\"linecolor\":\"white\",\"showbackground\":true,\"ticks\":\"\",\"zerolinecolor\":\"white\"}},\"shapedefaults\":{\"line\":{\"color\":\"#2a3f5f\"}},\"ternary\":{\"aaxis\":{\"gridcolor\":\"white\",\"linecolor\":\"white\",\"ticks\":\"\"},\"baxis\":{\"gridcolor\":\"white\",\"linecolor\":\"white\",\"ticks\":\"\"},\"bgcolor\":\"#E5ECF6\",\"caxis\":{\"gridcolor\":\"white\",\"linecolor\":\"white\",\"ticks\":\"\"}},\"title\":{\"x\":0.05},\"xaxis\":{\"automargin\":true,\"gridcolor\":\"white\",\"linecolor\":\"white\",\"ticks\":\"\",\"title\":{\"standoff\":15},\"zerolinecolor\":\"white\",\"zerolinewidth\":2},\"yaxis\":{\"automargin\":true,\"gridcolor\":\"white\",\"linecolor\":\"white\",\"ticks\":\"\",\"title\":{\"standoff\":15},\"zerolinecolor\":\"white\",\"zerolinewidth\":2}}},\"title\":{\"text\":\"Stock Prices \"},\"xaxis\":{\"title\":{\"font\":{\"color\":\"#7f7f7f\",\"family\":\"Courier New, monospace\",\"size\":18},\"text\":\"Day\"}}},                        {\"responsive\": true}                    ).then(function(){\n",
       "                            \n",
       "var gd = document.getElementById('52df9be4-96f6-4eb5-bc3a-2774fd6d3b47');\n",
       "var x = new MutationObserver(function (mutations, observer) {{\n",
       "        var display = window.getComputedStyle(gd).display;\n",
       "        if (!display || display === 'none') {{\n",
       "            console.log([gd, 'removed!']);\n",
       "            Plotly.purge(gd);\n",
       "            observer.disconnect();\n",
       "        }}\n",
       "}});\n",
       "\n",
       "// Listen for the removal of the full notebook cells\n",
       "var notebookContainer = gd.closest('#notebook-container');\n",
       "if (notebookContainer) {{\n",
       "    x.observe(notebookContainer, {childList: true});\n",
       "}}\n",
       "\n",
       "// Listen for the clearing of the current output cell\n",
       "var outputEl = gd.closest('.output');\n",
       "if (outputEl) {{\n",
       "    x.observe(outputEl, {childList: true});\n",
       "}}\n",
       "\n",
       "                        })                };                });            </script>        </div>"
      ]
     },
     "metadata": {},
     "output_type": "display_data"
    }
   ],
   "source": [
    "iplot(plot2)"
   ]
  },
  {
   "cell_type": "code",
   "execution_count": 25,
   "id": "0b56e239",
   "metadata": {},
   "outputs": [
    {
     "name": "stdout",
     "output_type": "stream",
     "text": [
      "\n",
      "Metric           Train                Test        \n",
      "r2_score  1.0\t1.0\n",
      "MSE       2.0972883772157637e-31\t1.943470534197193e-31\n",
      "\n"
     ]
    }
   ],
   "source": [
    "scores= f'''\n",
    "{'Metric'.ljust(10)}{'Train'.center(20)}{'Test'.center(20)}\n",
    "{'r2_score'.ljust(10)}{r2_score(y_train, lm.predict(x_train))}\\t{r2_score(y_test,lm.predict(x_test))}\n",
    "{'MSE'.ljust(10)}{mse(y_train, lm.predict(x_train))}\\t{mse(y_test,lm.predict(x_test))}\n",
    "'''\n",
    "print(scores)"
   ]
  },
  {
   "cell_type": "code",
   "execution_count": null,
   "id": "7c2f8d22",
   "metadata": {},
   "outputs": [],
   "source": []
  },
  {
   "cell_type": "code",
   "execution_count": null,
   "id": "68660ab5",
   "metadata": {},
   "outputs": [],
   "source": []
  }
 ],
 "metadata": {
  "kernelspec": {
   "display_name": "Python 3 (ipykernel)",
   "language": "python",
   "name": "python3"
  },
  "language_info": {
   "codemirror_mode": {
    "name": "ipython",
    "version": 3
   },
   "file_extension": ".py",
   "mimetype": "text/x-python",
   "name": "python",
   "nbconvert_exporter": "python",
   "pygments_lexer": "ipython3",
   "version": "3.9.13"
  }
 },
 "nbformat": 4,
 "nbformat_minor": 5
}
